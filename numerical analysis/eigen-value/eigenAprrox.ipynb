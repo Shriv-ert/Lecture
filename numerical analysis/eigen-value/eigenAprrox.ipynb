{
  "cells": [
    {
      "cell_type": "markdown",
      "id": "f512e428",
      "metadata": {
        "id": "f512e428"
      },
      "source": [
        "# ***TUGAS KELOMPOK METODE NUMERIK EIGEN VALUE APPROXIMATION***\n",
        "Anggota:\n",
        "1. Shofwan Fikrul Huda(24060124130106)\n",
        "\n",
        "Kelas: E\n",
        "___"
      ]
    },
    {
      "cell_type": "markdown",
      "id": "e169bf38",
      "metadata": {
        "id": "e169bf38"
      },
      "source": [
        "#### **A. Definisi**"
      ]
    },
    {
      "cell_type": "markdown",
      "id": "6f613058",
      "metadata": {
        "id": "6f613058"
      },
      "source": [
        "Nilai Eigen adalah bagian skalar khusus yang memiliki hubungan dengan sistem persamaan linear. Hal ini banyak digunakan dalam persamaan matriks. Eigen value memiliki rumus dasarsebagai berikut:"
      ]
    },
    {
      "cell_type": "markdown",
      "id": "0c89f2f4",
      "metadata": {
        "id": "0c89f2f4"
      },
      "source": [
        "$Ax = λx$\n",
        "\n",
        "Angka atau nilai skalar “λ” adalah nilai eigen dari A."
      ]
    },
    {
      "cell_type": "markdown",
      "id": "9b340a03",
      "metadata": {
        "id": "9b340a03"
      },
      "source": [
        "#### **B. Teknik aproksimasi eigen value**"
      ]
    },
    {
      "cell_type": "markdown",
      "id": "fc828558",
      "metadata": {
        "id": "fc828558"
      },
      "source": [
        "Dalam algoritma eigen value memliki beberapa pendekatan yang dapat dilakukan. di bagian ini, kita akan membahas 4 teknik pendekatan yang dapat dilakukan."
      ]
    },
    {
      "cell_type": "code",
      "execution_count": null,
      "id": "82b309e7",
      "metadata": {
        "id": "82b309e7"
      },
      "outputs": [],
      "source": [
        "import numpy as np"
      ]
    },
    {
      "cell_type": "markdown",
      "id": "4022cfe6",
      "metadata": {
        "id": "4022cfe6"
      },
      "source": [
        "**1. Power iteration**"
      ]
    },
    {
      "cell_type": "markdown",
      "id": "r1BiacBVD8Oc",
      "metadata": {
        "id": "r1BiacBVD8Oc"
      },
      "source": [
        "\n",
        "\n",
        "Metode iterasi pangkat adalah sebuah algoritma untuk menemukan **nilai eigen dominan** (nilai eigen dengan magnitudo terbesar) dan **vektor eigen** yang bersesuaian dari sebuah matriks. Metode ini bekerja dengan mengalikan matriks secara berulang dengan sebuah vektor tebakan awal, yang akan konvergen ke arah vektor eigen dominan.\n",
        "\n",
        "### Rumus Utama\n",
        "\n",
        "1.  **Inisialisasi**:\n",
        "\n",
        "    Pilih sebuah vektor tebakan awal $v_0$ yang tidak nol. Biasanya, $v_0$ dipilih sebagai vektor dengan semua elemennya bernilai 1.\n",
        "\n",
        "  $v_0$ = \\begin{pmatrix} 1 \\\\ 1 \\\\ \\vdots \\\\ 1 \\end{pmatrix}\n",
        "\n",
        "2.  **Iterasi**:\n",
        "    Untuk $k = 0, 1, 2, \\dots$ hingga konvergensi:\n",
        "    * Hitung $w_{k+1} = A v_k$\n",
        "        $$w_{k+1} = A v_k$$\n",
        "    * Normalisasi $v_{k+1} = \\frac{w_{k+1}}{\\|w_{k+1}\\|}$\n",
        "        $$v_{k+1} = \\frac{w_{k+1}}{\\|w_{k+1}\\|_2}$$\n",
        "        di mana $\\| \\cdot \\|_2$ adalah norma Euclidean (L2-norm).\n",
        "\n",
        "3.  **Konvergensi**:\n",
        "    Iterasi dihentikan jika perubahan antara $v_{k+1}$ dan $v_k$ cukup kecil, yaitu:\n",
        "    $$\\|v_{k+1} - v_k\\|_2 < \\text{toleransi}$$\n",
        "\n",
        "4.  **Estimasi Nilai Eigen (Rayleigh Quotient)**:\n",
        "    Setelah vektor eigen $v$ (hasil konvergensi $v_k$) ditemukan, nilai eigen dominan $\\lambda$ dapat diestimasi menggunakan **Rasio Rayleigh**:\n",
        "    $$\\lambda = \\frac{v^T A v}{v^T v}$$\n",
        "    Karena $v$ adalah vektor ternormalisasi ($v^T v = \\|v\\|_2^2 = 1$), rumusnya dapat disederhanakan menjadi:\n",
        "    $$\\lambda = v^T A v$$"
      ]
    },
    {
      "cell_type": "code",
      "execution_count": null,
      "id": "b27db21e",
      "metadata": {
        "id": "b27db21e"
      },
      "outputs": [],
      "source": [
        "def power_iteration(A, max_iterations=1000, tolerance=1e-6):\n",
        "    # Membuat matriks tebakan awal\n",
        "    v = np.array(np.ones(A.shape[0]), dtype=float)\n",
        "    for i in range(max_iterations):\n",
        "        wi = A @ v\n",
        "        vi = wi / np.linalg.norm(wi)\n",
        "        if np.linalg.norm(vi - v) < tolerance:\n",
        "            break\n",
        "        v = vi\n",
        "    # Menghitung eigenvalue menggunakan ray leigh rasio\n",
        "    eigenvalue = (v.T @ A @ v)/(v.T @ v)\n",
        "    return eigenvalue\n"
      ]
    },
    {
      "cell_type": "code",
      "execution_count": null,
      "id": "36c08051",
      "metadata": {
        "colab": {
          "base_uri": "https://localhost:8080/"
        },
        "id": "36c08051",
        "outputId": "63cf140f-04e4-410a-ff4b-5e49ce891230"
      },
      "outputs": [
        {
          "name": "stdout",
          "output_type": "stream",
          "text": [
            "Matrix A:\n",
            " [[1. 2. 3. 1. 5.]\n",
            " [2. 3. 4. 5. 6.]\n",
            " [3. 4. 5. 3. 7.]\n",
            " [1. 5. 3. 4. 8.]\n",
            " [5. 6. 7. 8. 9.]]\n",
            "Eigenvalues of A:\n",
            " 24.249542966441247\n"
          ]
        }
      ],
      "source": [
        "A = np.array([\n",
        "    [1, 2, 3, 1, 5],\n",
        "    [2, 3, 4, 5, 6],\n",
        "    [3, 4, 5, 3, 7],\n",
        "    [1, 5, 3, 4, 8],\n",
        "    [5, 6, 7, 8, 9]\n",
        "], dtype=float)\n",
        "eigenvalues = power_iteration(A)\n",
        "print(\"Matrix A:\\n\", A)\n",
        "print(\"Eigenvalues of A:\\n\", eigenvalues)"
      ]
    },
    {
      "cell_type": "markdown",
      "id": "e68e555c",
      "metadata": {
        "id": "e68e555c"
      },
      "source": [
        "**2. Reduksi Householder**"
      ]
    },
    {
      "cell_type": "markdown",
      "id": "rAAdHJhqI382",
      "metadata": {
        "id": "rAAdHJhqI382"
      },
      "source": [
        "\n",
        "\n",
        "Metode reduksi Householder digunakan untuk mentransformasi sebuah matriks $A$ menjadi bentuk yang lebih sederhana (biasanya **tridiagonal** jika $A$ simetris, atau **Hessenberg atas** jika $A$ tidak simetris) melalui serangkaian refleksi. Transformasi ini adalah transformasi similaritas, sehingga **nilai eigen** dari matriks asli tetap terjaga.\n",
        "\n",
        "### Rumus Utama dan Langkah-Langkah\n",
        "\n",
        "Untuk setiap langkah ke-$k$ (dimana $k$ berjalan dari kolom pertama hingga kolom ke-$n-2$):\n",
        "\n",
        "1.  **Pilih Sub-vektor**:\n",
        "    Ambil vektor kolom $x$ dari matriks $A$ saat ini, yaitu $A_{k+1:n, k}$. Ini adalah vektor yang elemen-elemennya (kecuali yang pertama, relatif terhadap $x$ itu sendiri) ingin kita nolkan.\n",
        "\n",
        "$$\n",
        "x = \\begin{pmatrix} A_{k+1,k} \\\\ A_{k+2,k} \\\\ \\vdots \\\\ A_{n,k} \\end{pmatrix}\n",
        "$$\n",
        "    \n",
        "\n",
        "2.  **Bentuk Vektor Householder $v$**:\n",
        "    Vektor $v$ mendefinisikan hyperplane refleksi.\n",
        "    $$\n",
        "    v = x + \\text{sign}(x_1) \\|x\\|_2 e_1\n",
        "    $$\n",
        "    di mana $x_1$ adalah elemen pertama dari vektor $x$, dan $e_1 = (1, 0, \\dots, 0)^T$ adalah vektor basis standar dengan dimensi yang sama seperti $x$. Vektor $v$ kemudian dinormalisasi:\n",
        "    $$\n",
        "    v = \\frac{v}{\\|v\\|_2}\n",
        "    $$\n",
        "\n",
        "3.  **Bentuk Matriks Reflektor Householder $H_{sub}$**:\n",
        "    Matriks reflektor $H_{sub}$ yang akan diterapkan pada sub-blok matriks $A$ adalah:\n",
        "    $$\n",
        "    H_{sub} = I - 2vv^T\n",
        "    $$\n",
        "    di mana $I$ adalah matriks identitas dengan ukuran yang sesuai.\n",
        "\n",
        "4.  **Bentuk Matriks Reflektor Penuh $H_k$**:\n",
        "  Matriks $H_{sub}$ disematkan ke dalam matriks identitas berukuran $n \\times n$ untuk membentuk $H_k$:\n",
        "  $$\n",
        "  H_k = \\begin{pmatrix} I_k & 0 \\\\ 0 & H_{sub} \\end{pmatrix}\n",
        "  $$\n",
        "  di mana $I_k$ adalah matriks identitas berukuran $(k+1) \\times (k+1)$\n",
        "\n",
        "5.  **Terapkan Transformasi Similaritas**:\n",
        "    Matriks $A$ diperbarui sebagai berikut:\n",
        "    $$\n",
        "    A_{\\text{baru}} = H_k A H_k^T\n",
        "    $$\n",
        "    Karena $H_k$ adalah matriks ortogonal dan simetris ($H_k = H_k^T$), ini bisa ditulis juga sebagai:\n",
        "    $$\n",
        "    A_{\\text{baru}} = H_k A H_k\n",
        "    $$\n",
        "    Transformasi ini mengenolkan elemen-elemen yang diinginkan di bawah sub-diagonal kolom ke-$k$ dan, jika $A$ simetris, juga elemen-elemen yang bersesuaian di baris ke-$k$.\n",
        "\n",
        "---\n",
        "Proses ini diulang untuk $k = 0, 1, \\dots, n-3$. Hasil akhirnya adalah matriks tridiagonal (jika $A$ simetris)."
      ]
    },
    {
      "cell_type": "code",
      "execution_count": null,
      "id": "22c39eeb",
      "metadata": {
        "id": "22c39eeb"
      },
      "outputs": [],
      "source": [
        "def householder(A):\n",
        "    A = A.copy().astype(float)      # Salin matriks, pastikan tipe float.\n",
        "    n = A.shape[0]                  # Ukuran matriks.\n",
        "    for k in range(n - 2):\n",
        "        x = A[k+1:, k]              # Sub-vektor kolom di bawah diagonal utama yang akan di-nol-kan.\n",
        "        e1 = np.zeros(x.shape[0])\n",
        "        e1[0] = 1.0\n",
        "        v_sign = np.sign(x[0]) if x[0] != 0 else 1.0\n",
        "        v = x + v_sign * np.linalg.norm(x) * e1\n",
        "        if np.linalg.norm(v) > 1e-15: # Hindari pembagian dengan nol\n",
        "            v = v / np.linalg.norm(v) # Normalisasi v.\n",
        "\n",
        "        # H_sub: Matriks reflektor Householder kecil (I - 2*v*v^T).\n",
        "        H_sub = np.eye(n-k-1) - 2.0 * (v[:, None] @ v[None, :])\n",
        "\n",
        "        Hk = np.eye(n)\n",
        "        Hk[k+1:, k+1:] = H_sub      # Sematkan H_sub ke Hk.\n",
        "\n",
        "        # Terapkan transformasi similaritas: A_baru = Hk @ A @ Hk.\n",
        "        A = Hk @ A @ Hk\n",
        "    return A\n",
        "\n",
        "\n"
      ]
    },
    {
      "cell_type": "code",
      "execution_count": null,
      "id": "80e6bbb6",
      "metadata": {
        "colab": {
          "base_uri": "https://localhost:8080/"
        },
        "id": "80e6bbb6",
        "outputId": "903f9257-7baf-44b0-bd16-1395c1429a3c"
      },
      "outputs": [
        {
          "name": "stdout",
          "output_type": "stream",
          "text": [
            "Hasil matriks A setelah reduksi Householder:\n",
            "[[ 1.     -6.245   0.     -0.     -0.    ]\n",
            " [-6.245  20.0513 -7.5361 -0.      0.    ]\n",
            " [ 0.     -7.5361  1.5273  2.1574  0.    ]\n",
            " [-0.     -0.      2.1574  0.0951  0.793 ]\n",
            " [-0.      0.      0.      0.793  -0.6736]]\n"
          ]
        }
      ],
      "source": [
        "\n",
        "\n",
        "# Matriks input\n",
        "A = np.array([\n",
        "    [1, 2, 3, 1, 5],\n",
        "    [2, 3, 4, 5, 6],\n",
        "    [3, 4, 5, 3, 7],\n",
        "    [1, 5, 3, 4, 8],\n",
        "    [5, 6, 7, 8, 9]\n",
        "], dtype=float)\n",
        "print(\"Hasil matriks A setelah reduksi Householder:\")\n",
        "print(np.round(householder(A), 4))"
      ]
    },
    {
      "cell_type": "markdown",
      "id": "d079a751",
      "metadata": {
        "id": "d079a751"
      },
      "source": [
        "**3. QR method**"
      ]
    },
    {
      "cell_type": "markdown",
      "id": "xRD-ot_pLyQG",
      "metadata": {
        "id": "xRD-ot_pLyQG"
      },
      "source": [
        "Metode QR adalah algoritma iteratif yang digunakan untuk menghitung **nilai eigen** dan vektor eigen dari sebuah matriks. Versi dasar dari metode ini bekerja dengan melakukan dekomposisi QR secara berulang dan mengalikan faktor-faktornya dalam urutan terbalik, yang menyebabkan matriks konvergen ke bentuk di mana nilai eigen mudah dibaca dari diagonalnya.\n",
        "\n",
        "### Langkah-Langkah dan Rumus Utama\n",
        "\n",
        "Misalkan $A_0 = A$ adalah matriks awal.\n",
        "\n",
        "1.  **Iterasi**:\n",
        "    Untuk $k = 0, 1, 2, \\dots$ hingga konvergensi atau jumlah iterasi maksimum tercapai:\n",
        "    * **Dekomposisi QR**: Faktorkan matriks $A_k$ menjadi produk dari matriks ortogonal $Q_k$ dan matriks segitiga atas $R_k$.\n",
        "        $$\n",
        "        A_k = Q_k R_k\n",
        "        $$\n",
        "    * **Bentuk Matriks Berikutnya**: Kalikan $R_k$ dan $Q_k$ dalam urutan terbalik untuk mendapatkan matriks $A_{k+1}$.\n",
        "        $$\n",
        "        A_{k+1} = R_k Q_k\n",
        "        $$\n",
        "        Perhatikan bahwa $A_{k+1} = R_k Q_k = Q_k^T A_k Q_k$ (karena $Q_k$ ortogonal, $Q_k^{-1} = Q_k^T$, dan $R_k = Q_k^T A_k$). Ini menunjukkan bahwa setiap iterasi adalah **transformasi similaritas**, sehingga nilai eigen tetap terjaga.\n",
        "\n",
        "2.  **Konvergensi**:\n",
        "    Iterasi dihentikan jika perubahan antara $A_{k+1}$ dan $A_k$ cukup kecil, yaitu:\n",
        "    $$\n",
        "    \\|A_{k+1} - A_k\\|_{\\text{F}} < \\text{toleransi}\n",
        "    $$\n",
        "    (Norma Frobenius sering digunakan di sini, atau norma lain yang sesuai).\n",
        "\n",
        "3.  **Hasil**:\n",
        "    * Jika $A$ simetris, $A_k$ akan konvergen ke **matriks diagonal**. Elemen-elemen diagonalnya adalah **nilai eigen** dari $A$.\n",
        "    * Jika $A$ tidak simetris, $A_k$ akan konvergen ke **matriks segitiga atas** (atau bentuk Schur riil). Elemen-elemen diagonalnya adalah **nilai eigen** dari $A$. (Untuk nilai eigen kompleks, mungkin muncul blok 2x2 pada diagonal).\n",
        "\n",
        "    Fungsi Anda mengembalikan `np.diag(A)` yang merupakan elemen-elemen diagonal dari matriks $A$ yang telah konvergen.\n",
        "\n",
        "---"
      ]
    },
    {
      "cell_type": "code",
      "execution_count": null,
      "id": "86710b87",
      "metadata": {
        "id": "86710b87"
      },
      "outputs": [],
      "source": [
        "import numpy as np\n",
        "\n",
        "def QRmethod(A, max_iter=100, tol=1e-10):\n",
        "    A = A.copy().astype(float)      # Membuat copy matriks agar menghindari error dan memastikan tipe data float\n",
        "    for i in range(max_iter):\n",
        "        Q, R = np.linalg.qr(A)      # Mendekomposisi QR (A = QR)\n",
        "        A_next = R @ Q              # Menghitung A_next = R * Q\n",
        "        # Mengecek konvergensi: jika perubahan antara A_next dan A cukup kecil\n",
        "        if np.linalg.norm(A_next - A) < tol:\n",
        "            break                   # Hentikan iterasi jika sudah konvergen\n",
        "        A = A_next                  # Update A untuk iterasi berikutnya\n",
        "    return np.diag(A)               # Mengembalikan diagonal dari matriks A yang telah konvergen\n"
      ]
    },
    {
      "cell_type": "code",
      "execution_count": null,
      "id": "3YmmgNhb0R3Y",
      "metadata": {
        "colab": {
          "base_uri": "https://localhost:8080/"
        },
        "id": "3YmmgNhb0R3Y",
        "outputId": "4ccbd715-fb66-40eb-b752-73300f88ee3b"
      },
      "outputs": [
        {
          "name": "stdout",
          "output_type": "stream",
          "text": [
            "Matriks A:\n",
            "\n",
            "[[1. 2. 3. 1. 5.]\n",
            " [2. 3. 4. 5. 6.]\n",
            " [3. 4. 5. 3. 7.]\n",
            " [1. 5. 3. 4. 8.]\n",
            " [5. 6. 7. 8. 9.]]\n",
            "Eigenvalues dari A:\n",
            "\n",
            "[24.24954 -3.57787  2.43565 -1.10732  0.     ]\n"
          ]
        }
      ],
      "source": [
        "# Matriks input\n",
        "A = np.array([\n",
        "    [1, 2, 3, 1, 5],\n",
        "    [2, 3, 4, 5, 6],\n",
        "    [3, 4, 5, 3, 7],\n",
        "    [1, 5, 3, 4, 8],\n",
        "    [5, 6, 7, 8, 9]\n",
        "], dtype=float)\n",
        "print(\"Matriks A:\\n\")\n",
        "print(A)\n",
        "print(\"Eigenvalues dari A:\\n\")\n",
        "print(np.round(QRmethod(A), 5))"
      ]
    },
    {
      "cell_type": "markdown",
      "id": "dfa1dbc8",
      "metadata": {
        "id": "dfa1dbc8"
      },
      "source": [
        "**4. SVD(Singular Value Decomposition)**"
      ]
    },
    {
      "cell_type": "markdown",
      "id": "sTLsj_mZMFXZ",
      "metadata": {
        "id": "sTLsj_mZMFXZ"
      },
      "source": [
        "\n",
        "\n",
        "Dekomposisi Nilai Singular (SVD) adalah faktorisasi fundamental dari sebuah matriks $A$ (bahkan matriks non-persegi) menjadi tiga matriks khusus. SVD memiliki aplikasi yang sangat luas dalam aljabar linear, analisis data, kompresi gambar, dan banyak bidang lainnya.\n",
        "\n",
        "### Definisi dan Rumus Utama\n",
        "\n",
        "Untuk setiap matriks $A$ berukuran $m \\times n$, dekomposisi nilai singularnya diberikan oleh:\n",
        "\n",
        "$$\n",
        "A = U \\Sigma V^T\n",
        "$$\n",
        "\n",
        "Dimana:\n",
        "* $U$ adalah matriks ortogonal berukuran $m \\times m$. Kolom-kolom $U$ disebut **vektor singular kiri**.\n",
        "* $\\Sigma$ (Sigma) adalah matriks diagonal $m \\times n$ (dengan bentuk yang sama seperti $A$). Elemen-elemen diagonal non-negatif $\\sigma_i$ dari $\\Sigma$ disebut **nilai singular** (singular values) dari $A$. Nilai-nilai ini biasanya diurutkan dari yang terbesar hingga terkecil: $\\sigma_1 \\ge \\sigma_2 \\ge \\dots \\ge \\sigma_r > 0$, dimana $r$ adalah rank dari $A$. Sisa elemen diagonal adalah nol.\n",
        "  $$\n",
        "  \\Sigma = \\text{diag}(\\sigma_1, \\sigma_2, \\dots, \\sigma_r, 0, \\dots, 0)\n",
        "  $$\n",
        "* $V^T$ adalah transpos dari matriks ortogonal $V$ yang berukuran $n \\times n$. Kolom-kolom $V$ (atau baris-baris $V^T$) disebut **vektor singular kanan**.\n"
      ]
    },
    {
      "cell_type": "code",
      "execution_count": null,
      "id": "f1867e01",
      "metadata": {
        "id": "f1867e01"
      },
      "outputs": [],
      "source": [
        "def SVD(A):\n",
        "    U, S, V = np.linalg.svd(A) #langsung memanggil fungsi SVD\n",
        "    return S"
      ]
    },
    {
      "cell_type": "code",
      "execution_count": null,
      "id": "1f9781eb",
      "metadata": {
        "colab": {
          "base_uri": "https://localhost:8080/"
        },
        "id": "1f9781eb",
        "outputId": "9d3d11ef-d1c4-4cb0-b29c-9cfe1f9aafa6"
      },
      "outputs": [
        {
          "name": "stdout",
          "output_type": "stream",
          "text": [
            "Matrix A:\n",
            "\n",
            "[[1. 2. 3. 1. 5.]\n",
            " [2. 3. 4. 5. 6.]\n",
            " [3. 4. 5. 3. 7.]\n",
            " [1. 5. 3. 4. 8.]]\n",
            "Eigenvalues of A:\n",
            "\n",
            "[18.46693  2.43849  2.28748  0.89102]\n"
          ]
        }
      ],
      "source": [
        "A = np.array([\n",
        "    [1, 2, 3, 1, 5],\n",
        "    [2, 3, 4, 5, 6],\n",
        "    [3, 4, 5, 3, 7],\n",
        "    [1, 5, 3, 4, 8]\n",
        "], dtype=float)\n",
        "print(\"Matrix A:\\n\")\n",
        "print(A)\n",
        "print(\"Eigenvalues of A:\\n\")\n",
        "print(np.round(SVD(A),5))"
      ]
    }
  ],
  "metadata": {
    "colab": {
      "provenance": []
    },
    "kernelspec": {
      "display_name": "Python 3",
      "language": "python",
      "name": "python3"
    },
    "language_info": {
      "codemirror_mode": {
        "name": "ipython",
        "version": 3
      },
      "file_extension": ".py",
      "mimetype": "text/x-python",
      "name": "python",
      "nbconvert_exporter": "python",
      "pygments_lexer": "ipython3",
      "version": "3.13.3"
    }
  },
  "nbformat": 4,
  "nbformat_minor": 5
}
