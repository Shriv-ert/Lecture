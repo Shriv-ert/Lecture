{
 "cells": [
  {
   "cell_type": "markdown",
   "id": "f512e428",
   "metadata": {},
   "source": [
    "# ***TUGAS KELOMPOK METODE NUMERIK EIGEN VALUE APPROXIMATION***\n",
    "Anggota: Shofwan Fikrul Huda(24060124130106)\n",
    "\n",
    "Kelas: E\n",
    "___"
   ]
  },
  {
   "cell_type": "markdown",
   "id": "e169bf38",
   "metadata": {},
   "source": [
    "#### **A. Definisi**"
   ]
  },
  {
   "cell_type": "markdown",
   "id": "6f613058",
   "metadata": {},
   "source": [
    "Nilai Eigen adalah bagian skalar khusus yang memiliki hubungan dengan sistem persamaan linear. Hal ini banyak digunakan dalam persamaan matriks. Eigen value memiliki rumus dasarsebagai berikut:"
   ]
  },
  {
   "cell_type": "markdown",
   "id": "0c89f2f4",
   "metadata": {},
   "source": [
    "$Ax = λx$\n",
    "\n",
    "Angka atau nilai skalar “λ” adalah nilai eigen dari A."
   ]
  },
  {
   "cell_type": "markdown",
   "id": "9b340a03",
   "metadata": {},
   "source": [
    "#### **B. Teknik aproksimasi eigen value**"
   ]
  },
  {
   "cell_type": "markdown",
   "id": "fc828558",
   "metadata": {},
   "source": [
    "Dalam algoritma eigen value memliki beberapa pendekatan yang dapat dilakukan. di bagian ini, kita akan membahas 4 teknik pendekatan yang dapat dilakukan."
   ]
  },
  {
   "cell_type": "code",
   "execution_count": 165,
   "id": "82b309e7",
   "metadata": {},
   "outputs": [],
   "source": [
    "import numpy as np\n",
    "import matplotlib.pyplot as plt\n",
    "import seaborn as sns"
   ]
  },
  {
   "cell_type": "markdown",
   "id": "4022cfe6",
   "metadata": {},
   "source": [
    "**1. Power iteration**"
   ]
  },
  {
   "cell_type": "markdown",
   "id": "fe312f45",
   "metadata": {},
   "source": [
    "Power iteration adalah pendekatan iteratif yang dapat digunakan untuk menentukan nilai eigen terbesar."
   ]
  },
  {
   "cell_type": "code",
   "execution_count": 166,
   "id": "b27db21e",
   "metadata": {},
   "outputs": [],
   "source": [
    "def power_iteration(A, max_iterations=1000, tolerance=1e-6):\n",
    "    v = np.array(np.ones(A.shape[0]), dtype=float)\n",
    "    for i in range(max_iterations):\n",
    "        wi = A @ v\n",
    "        vi = wi / np.linalg.norm(wi)\n",
    "        if np.linalg.norm(vi - v) < tolerance:\n",
    "            break\n",
    "        v = vi\n",
    "    eigenvalue = v.T @ A @ v\n",
    "    return eigenvalue\n"
   ]
  },
  {
   "cell_type": "code",
   "execution_count": 167,
   "id": "36c08051",
   "metadata": {},
   "outputs": [
    {
     "name": "stdout",
     "output_type": "stream",
     "text": [
      "Matrix A:\n",
      " [[1. 2. 3. 1. 5.]\n",
      " [2. 3. 4. 5. 6.]\n",
      " [3. 4. 5. 3. 7.]\n",
      " [1. 5. 3. 4. 8.]\n",
      " [5. 6. 7. 8. 9.]]\n",
      "Eigenvalues of A:\n",
      " 24.249542966441247\n"
     ]
    }
   ],
   "source": [
    "A = np.array([\n",
    "    [1, 2, 3, 1, 5],\n",
    "    [2, 3, 4, 5, 6],\n",
    "    [3, 4, 5, 3, 7],\n",
    "    [1, 5, 3, 4, 8],\n",
    "    [5, 6, 7, 8, 9]\n",
    "], dtype=float)\n",
    "eigenvalues = power_iteration(A)\n",
    "print(\"Matrix A:\\n\", A)\n",
    "print(\"Eigenvalues of A:\\n\", eigenvalues)"
   ]
  },
  {
   "cell_type": "markdown",
   "id": "e68e555c",
   "metadata": {},
   "source": [
    "**2. Transformasi Householder**"
   ]
  },
  {
   "cell_type": "markdown",
   "id": "9050fc00",
   "metadata": {},
   "source": [
    "Teknik transformasi matriks yang digunakan untuk mereduksi sebuah matriks simetris menjadi bentuk tridiagonal yang serupa (memiliki nilai eigen yang sama). Reduksi ini mempermudah dan mempercepat proses perhitungan nilai eigen menggunakan metode iteratif seperti metode QR. Dengan demikian, metode Householder berfungsi sebagai langkah awal penting dalam aproksimasi nilai eigen, mengoptimalkan efisiensi dan stabilitas komputasi.\n"
   ]
  },
  {
   "cell_type": "code",
   "execution_count": 168,
   "id": "22c39eeb",
   "metadata": {},
   "outputs": [],
   "source": [
    "def householder(A):\n",
    "    A = A.copy().astype(float)\n",
    "    n = A.shape[0]\n",
    "    for k in range(n - 2):\n",
    "        x = A[k+1:, k]\n",
    "        e1 = np.zeros(x.shape)\n",
    "        e1[0] = 1.0\n",
    "        v = x + np.sign(x[0]) * np.linalg.norm(x) * e1\n",
    "        v = v / np.linalg.norm(v)\n",
    "        I = np.eye(n-k-1)\n",
    "        H = I - 2.0 * (v[:, None] @ v[None, :])\n",
    "        Hk = np.eye(n)\n",
    "        Hk[k+1:, k+1:] = H\n",
    "        A = Hk @ A @ Hk.T\n",
    "    return A\n",
    "        \n",
    "\n"
   ]
  },
  {
   "cell_type": "code",
   "execution_count": 169,
   "id": "80e6bbb6",
   "metadata": {},
   "outputs": [
    {
     "name": "stdout",
     "output_type": "stream",
     "text": [
      "Hasil matriks A setelah reduksi Householder:\n",
      "[[ 1.     -6.245   0.     -0.     -0.    ]\n",
      " [-6.245  20.0513 -7.5361 -0.      0.    ]\n",
      " [ 0.     -7.5361  1.5273  2.1574  0.    ]\n",
      " [-0.     -0.      2.1574  0.0951  0.793 ]\n",
      " [-0.      0.      0.      0.793  -0.6736]]\n"
     ]
    }
   ],
   "source": [
    "\n",
    "\n",
    "# Matriks input\n",
    "A = np.array([\n",
    "    [1, 2, 3, 1, 5],\n",
    "    [2, 3, 4, 5, 6],\n",
    "    [3, 4, 5, 3, 7],\n",
    "    [1, 5, 3, 4, 8],\n",
    "    [5, 6, 7, 8, 9]\n",
    "], dtype=float)\n",
    "# Format hasil ke 4 desimal (seperti format bank)\n",
    "print(\"Hasil matriks A setelah reduksi Householder:\")\n",
    "print(np.round(householder(A), 4))"
   ]
  },
  {
   "cell_type": "markdown",
   "id": "d079a751",
   "metadata": {},
   "source": [
    "**3. QR method**"
   ]
  },
  {
   "cell_type": "code",
   "execution_count": null,
   "id": "86710b87",
   "metadata": {},
   "outputs": [
    {
     "name": "stdout",
     "output_type": "stream",
     "text": [
      "Matrix A:\n",
      "\n",
      "[[1. 2. 3. 1. 5.]\n",
      " [2. 3. 4. 5. 6.]\n",
      " [3. 4. 5. 3. 7.]\n",
      " [1. 5. 3. 4. 8.]\n",
      " [5. 6. 7. 8. 9.]]\n",
      "Eigenvalues of A:\n",
      "\n",
      "[24.2495 -3.5779  2.4356 -1.1073 -0.    ]\n"
     ]
    }
   ],
   "source": [
    "def QRmethod(A, max_iter=100, tol=1e-10):\n",
    "    A = A.copy().astype(float)\n",
    "    for i in range(max_iter):\n",
    "        Q, R = np.linalg.qr(A)\n",
    "        A_next = R @ Q\n",
    "        if np.linalg.norm(A_next - A) < tol:\n",
    "            break\n",
    "        A = A_next\n",
    "\n",
    "    return np.diag(A)\n",
    "print(\"Matriks A:\\n\")\n",
    "print(A)\n",
    "print(\"Eigenvalues dari A:\\n\")\n",
    "print(QRmethod(householder(A)))"
   ]
  },
  {
   "cell_type": "markdown",
   "id": "dfa1dbc8",
   "metadata": {},
   "source": [
    "**4. SVD(Singular Value Decomposition)**"
   ]
  },
  {
   "cell_type": "code",
   "execution_count": 174,
   "id": "f1867e01",
   "metadata": {},
   "outputs": [],
   "source": [
    "def SVD(A):\n",
    "    U, S, V = np.linalg.svd(A)\n",
    "    return S"
   ]
  },
  {
   "cell_type": "code",
   "execution_count": 175,
   "id": "1f9781eb",
   "metadata": {},
   "outputs": [
    {
     "name": "stdout",
     "output_type": "stream",
     "text": [
      "Matrix A:\n",
      "\n",
      "[[1. 2. 3. 1. 5.]\n",
      " [2. 3. 4. 5. 6.]\n",
      " [3. 4. 5. 3. 7.]\n",
      " [1. 5. 3. 4. 8.]\n",
      " [5. 6. 7. 8. 9.]]\n",
      "Eigenvalues of A:\n",
      "\n",
      "[24.2495  3.5779  2.4356  1.1073  0.    ]\n"
     ]
    }
   ],
   "source": [
    "A = np.array([\n",
    "    [1, 2, 3, 1, 5],\n",
    "    [2, 3, 4, 5, 6],\n",
    "    [3, 4, 5, 3, 7],\n",
    "    [1, 5, 3, 4, 8],\n",
    "    [5, 6, 7, 8, 9]\n",
    "], dtype=float)\n",
    "print(\"Matrix A:\\n\")\n",
    "print(A)\n",
    "print(\"Eigenvalues of A:\\n\")\n",
    "print(SVD(A))"
   ]
  }
 ],
 "metadata": {
  "kernelspec": {
   "display_name": "Python 3",
   "language": "python",
   "name": "python3"
  },
  "language_info": {
   "codemirror_mode": {
    "name": "ipython",
    "version": 3
   },
   "file_extension": ".py",
   "mimetype": "text/x-python",
   "name": "python",
   "nbconvert_exporter": "python",
   "pygments_lexer": "ipython3",
   "version": "3.13.3"
  }
 },
 "nbformat": 4,
 "nbformat_minor": 5
}
