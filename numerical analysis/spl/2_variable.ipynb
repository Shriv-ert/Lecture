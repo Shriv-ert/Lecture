{
  "cells": [
    {
      "cell_type": "markdown",
      "id": "1e662f58",
      "metadata": {
        "id": "1e662f58"
      },
      "source": [
        "# ***TUGAS KELOMPOK METODE NUMERIK SPL***\n",
        "Anggota: Shofwan Fikrul Huda(24060124130106)\n",
        "\n",
        "Kelas: E\n",
        "___"
      ]
    },
    {
      "cell_type": "markdown",
      "id": "1d160944",
      "metadata": {
        "id": "1d160944"
      },
      "source": [
        "**A. Rumusan Masalah**"
      ]
    },
    {
      "cell_type": "markdown",
      "id": "34403787",
      "metadata": {
        "id": "34403787"
      },
      "source": [
        "Sebuah kelas terdiri dari 2 kubu Emayor dan Eminor dengan jumlah masing masing 29 dan 10 mahasiswa. Seorang dosen menguji beberapa mahasiswa saja dan membagi jadi 2 kelompok. Kedua kelompok tersebut akan mengerjakan soal matematika dalam waktu 60 menit sebanyak-banyaknya."
      ]
    },
    {
      "cell_type": "markdown",
      "id": "8d24f184",
      "metadata": {
        "id": "8d24f184"
      },
      "source": [
        "Kelompok 1 terdiri dari 5 Eminor dan 2 Emayor dapat menyelesaikan 65 soal\n",
        "\n",
        "Kelompok 2 terdiri dari 2 Eminor dan 7 Emayor dapat menyelesaikan 88 soal"
      ]
    },
    {
      "cell_type": "markdown",
      "id": "efac5a25",
      "metadata": {
        "id": "efac5a25"
      },
      "source": [
        "Arga yang tidak mengerjakan soal tersebut merasa bosan lalu penasaran. Bagaimana jika seluruh Emayor dan Eminor bekerja sama berapa banyak soal yang dapat diselesaikan?"
      ]
    },
    {
      "cell_type": "markdown",
      "id": "b692f0e3",
      "metadata": {
        "id": "b692f0e3"
      },
      "source": [
        "**B. Analisa kasus**"
      ]
    },
    {
      "cell_type": "markdown",
      "id": "5d5f316a",
      "metadata": {
        "id": "5d5f316a"
      },
      "source": [
        "Diketahui bahwa dalam waktu 60 menit:\n",
        "Kelompok 1 terdiri dari 5 Eminor dan 2 Emayor menyelesaikan 65 soal.\n",
        "Kelompok 2 terdiri dari 2 Eminor dan 7 Emayor menyelesaikan 88 soal.\n",
        "\n",
        "Misalkan:\n",
        "\n",
        "$x$= jumlah soal yang dapat diselesaikan 1 Eminor dalam 60 menit\n",
        "\n",
        "$y$ = jumlah soal yang dapat diselesaikan 1 Emayor dalam 60 menit\n"
      ]
    },
    {
      "cell_type": "markdown",
      "id": "36869849",
      "metadata": {
        "id": "36869849"
      },
      "source": [
        "Dari informasi tersebut, kita dapat menyusun sistem persamaan linear dua variabel:\n",
        "\n",
        "$5x+2y=65$\n",
        "\n",
        "$2x+7y=88$"
      ]
    },
    {
      "cell_type": "markdown",
      "id": "53e0ac52",
      "metadata": {
        "id": "53e0ac52"
      },
      "source": [
        "Langkah selanjutnya adalah menyelesaikan sistem persamaan ini untuk mencari nilai $x$ dan $y$, sehingga kita mengetahui produktivitas masing-masing individu dari kubu Eminor dan Emayor.\n",
        "\n",
        "Setelah diketahui $x$ dan $y$, kita bisa menghitung total soal yang dapat diselesaikan jika seluruh anggota bekerja sama, yaitu:\n",
        "\n",
        "$Total soal=10x+29y$"
      ]
    },
    {
      "cell_type": "markdown",
      "id": "78a1c3f2",
      "metadata": {
        "id": "78a1c3f2"
      },
      "source": [
        "**C. Penyelesaian**"
      ]
    },
    {
      "cell_type": "markdown",
      "id": "100cb92a",
      "metadata": {
        "id": "100cb92a"
      },
      "source": [
        "Kita akan menyelesaikan persamaan dengan menggunakan metode Relaksasi. Metode relaksasi (relaxation methods) adalah metode untuk mempercepat kekonvergenan dari solusi yang dihasilkan oleh metode iteratif untuk SPL. Bedasarkan ukuran faktor relaksasi $w$, metode ini dibagi jadi 2 jenis. *under relaxation* jika $0<w<1$ dan *over relaxaion* $1<w<2$. jika $w=1$ adalah metode *gauss seidel*."
      ]
    },
    {
      "cell_type": "markdown",
      "id": "65e149c8",
      "metadata": {
        "id": "65e149c8"
      },
      "source": [
        "Untuk sembarang nilai omega, rumus metode relaksasi sebagai modifikasi Gauss-Seidel bisa dituliskan sebagai berikut:\n",
        "\n",
        "$\n",
        "x_i^{(k)} = (1 - \\omega) x_i^{(k-1)} + \\frac{\\omega}{a_{ii}}\n",
        "\\left[\n",
        "    - \\sum_{j=1}^{i-1} a_{ij} x_j^{(k)}\n",
        "    - \\sum_{j=i+1}^{n} a_{ij} x_j^{(k-1)}\n",
        "    + b_i\n",
        "\\right], \\quad i = 1, 2, \\ldots, n\n",
        "$"
      ]
    },
    {
      "cell_type": "markdown",
      "id": "duE_WTgCqNmM",
      "metadata": {
        "id": "duE_WTgCqNmM"
      },
      "source": [
        "Pada kasus ini, kita akan mengiterasi semua omega dengan selisih 0.1. KIta akan menyelesaikan menggunakan python. Langkah pertama adalah mengimport library *numpy*, *matplotlib*, dan *tabulate*."
      ]
    },
    {
      "cell_type": "code",
      "execution_count": 8,
      "id": "43a304f7",
      "metadata": {
        "id": "43a304f7"
      },
      "outputs": [],
      "source": [
        "import numpy as np\n",
        "import matplotlib.pyplot as plt\n",
        "import tabulate as tbl"
      ]
    },
    {
      "cell_type": "markdown",
      "id": "CocaSpC0uCrq",
      "metadata": {
        "id": "CocaSpC0uCrq"
      },
      "source": [
        "Selanjutnya membuat fungsi untuk metode relaksasi. Fungsi ini akan mengiterasi sebanyak 1000 kali, tetapi akan berhenti jika sudah menyentuh batas toleransi $10^{-4}$."
      ]
    },
    {
      "cell_type": "code",
      "execution_count": 9,
      "id": "xm5KR84CO2bX",
      "metadata": {
        "id": "xm5KR84CO2bX"
      },
      "outputs": [],
      "source": [
        "def relaxation_method(A, b, w, tol=1e-4, max_iterations=5000):\n",
        "    # Kamus\n",
        "    n = len(A) # Banyak persamaan atau bisa disebut juga banyak variabel\n",
        "    x = np.zeros(n) # Untuk nilai x_(k-1)\n",
        "    # Melakukan iterasi sampai 1000\n",
        "    for k in range(max_iterations):\n",
        "      x_new = np.copy(x) # Untuk nilai x_(k)\n",
        "      # Mengoperasikan rumus relaksasi\n",
        "      for i in range(n):\n",
        "        sigma1 = sum(A[i][j] * x_new[j] for j in range(i))\n",
        "        sigma2 = sum(A[i][j] * x[j] for j in range(i + 1, n))\n",
        "        x_new[i] = (1 - w) * x[i] + (w / A[i][i]) * (b[i] - sigma1 - sigma2)\n",
        "\n",
        "      if np.linalg.norm(np.dot(A, x_new) - b) < tol: # Mengecek kekonvergenan garis\n",
        "        break\n",
        "      x = x_new\n",
        "    return x, k + 1  # Mengembalikan nilai x dan jumlah iterasi"
      ]
    },
    {
      "cell_type": "markdown",
      "id": "lmvMz3rTuzp0",
      "metadata": {
        "id": "lmvMz3rTuzp0"
      },
      "source": [
        "Deklarasi matriks sistem persamaan linear dua variabel"
      ]
    },
    {
      "cell_type": "code",
      "execution_count": 10,
      "id": "1PP2Znn5uuLR",
      "metadata": {
        "id": "1PP2Znn5uuLR"
      },
      "outputs": [],
      "source": [
        "# Membuat array persamaan kasus\n",
        "A = np.array([[5, 2], [2, 7]])\n",
        "b = np.array([65, 88])\n",
        "\n"
      ]
    },
    {
      "cell_type": "markdown",
      "id": "C_xPAd4HvWEY",
      "metadata": {
        "id": "C_xPAd4HvWEY"
      },
      "source": [
        "Deklararasi array untuk omega mulai dari $0.1$ hingga $1.9$ dengan $h=0.1$. Menjalankan fungsi relaksasi dengan seluruh omega yang telah dideklarasikan. Mengembalikan hasil visual Pengaruh banyak iterasi terhadap perubahan omega."
      ]
    },
    {
      "cell_type": "code",
      "execution_count": 11,
      "id": "sda77r2fvWuX",
      "metadata": {
        "colab": {
          "base_uri": "https://localhost:8080/",
          "height": 472
        },
        "id": "sda77r2fvWuX",
        "outputId": "76b082bb-10f4-4658-8932-e65ebb1f6beb"
      },
      "outputs": [
        {
          "data": {
            "image/png": "[encoded data removed]",
            "text/plain": [
              "<Figure size 640x480 with 1 Axes>"
            ]
          },
          "metadata": {},
          "output_type": "display_data"
        }
      ],
      "source": [
        "# Jangkauan nilai omega untuk test\n",
        "omega_values = np.linspace(0.1, 1.9, 19)\n",
        "\n",
        "iterations_list = []\n",
        "for omega in omega_values:\n",
        "    solution, iterations = relaxation_method(A, b, omega)\n",
        "    iterations_list.append(iterations)\n",
        "\n",
        "# Pembuatan grafik\n",
        "plt.plot(omega_values, iterations_list)\n",
        "plt.xlabel(\"Omega (ω)\")\n",
        "plt.ylabel(\"Number of Iterations\")\n",
        "plt.title(\"Convergence of Relaxation Method for Different Omega Values\")\n",
        "plt.grid(True)\n",
        "plt.show()\n",
        "\n"
      ]
    },
    {
      "cell_type": "markdown",
      "id": "-aYUGIUWvcvX",
      "metadata": {
        "id": "-aYUGIUWvcvX"
      },
      "source": [
        "Mengembalikan data omega dan banyak iterasi yang dibutuhkan untuk menyelesaikan spldv."
      ]
    },
    {
      "cell_type": "code",
      "execution_count": 12,
      "id": "DzMN2WKjvclv",
      "metadata": {
        "colab": {
          "base_uri": "https://localhost:8080/"
        },
        "id": "DzMN2WKjvclv",
        "outputId": "7d8292b5-23b9-449f-a139-cebff6cbac50"
      },
      "outputs": [
        {
          "name": "stdout",
          "output_type": "stream",
          "text": [
            "+---------+------------------------+\n",
            "|   Omega |   Number of Iterations |\n",
            "+=========+========================+\n",
            "|     0.1 |                    164 |\n",
            "+---------+------------------------+\n",
            "|     0.2 |                     79 |\n",
            "+---------+------------------------+\n",
            "|     0.3 |                     51 |\n",
            "+---------+------------------------+\n",
            "|     0.4 |                     36 |\n",
            "+---------+------------------------+\n",
            "|     0.5 |                     27 |\n",
            "+---------+------------------------+\n",
            "|     0.6 |                     21 |\n",
            "+---------+------------------------+\n",
            "|     0.7 |                     17 |\n",
            "+---------+------------------------+\n",
            "|     0.8 |                     13 |\n",
            "+---------+------------------------+\n",
            "|     0.9 |                     10 |\n",
            "+---------+------------------------+\n",
            "|     1   |                      7 |\n",
            "+---------+------------------------+\n",
            "|     1.1 |                      7 |\n",
            "+---------+------------------------+\n",
            "|     1.2 |                      9 |\n",
            "+---------+------------------------+\n",
            "|     1.3 |                     12 |\n",
            "+---------+------------------------+\n",
            "|     1.4 |                     15 |\n",
            "+---------+------------------------+\n",
            "|     1.5 |                     20 |\n",
            "+---------+------------------------+\n",
            "|     1.6 |                     28 |\n",
            "+---------+------------------------+\n",
            "|     1.7 |                     39 |\n",
            "+---------+------------------------+\n",
            "|     1.8 |                     61 |\n",
            "+---------+------------------------+\n",
            "|     1.9 |                    130 |\n",
            "+---------+------------------------+\n"
          ]
        }
      ],
      "source": [
        "# Hasil penghitungan\n",
        "data = []\n",
        "for i in range(len(omega_values)):\n",
        "    data.append([omega_values[i], iterations_list[i]])\n",
        "headers = [\"Omega\", \"Number of Iterations\"]\n",
        "print(tbl.tabulate(data, headers=headers, tablefmt=\"grid\"))\n",
        "\n"
      ]
    },
    {
      "cell_type": "markdown",
      "id": "jm9fDG16vhJ5",
      "metadata": {
        "id": "jm9fDG16vhJ5"
      },
      "source": [
        "Mengembalikan berapa soal yang dapat diselesaikan mahasiswa kelas tersebut dan berapa soal yang dapat dikerjakan jika satu kelas bekerja sama beserta galat relatif dari nilai sebenarnya."
      ]
    },
    {
      "cell_type": "code",
      "execution_count": 13,
      "id": "j5hv7OTjvhB_",
      "metadata": {
        "colab": {
          "base_uri": "https://localhost:8080/"
        },
        "id": "j5hv7OTjvhB_",
        "outputId": "4486352d-139a-47bf-8407-4c98e4a54808"
      },
      "outputs": [
        {
          "name": "stdout",
          "output_type": "stream",
          "text": [
            "+-------------------------+-----------+--------------------------+\n",
            "| kubu                    |    solved | galat relatif            |\n",
            "+=========================+===========+==========================+\n",
            "| Eminor                  |   9.00002 | -0.00026061275539588123% |\n",
            "+-------------------------+-----------+--------------------------+\n",
            "| Emayor                  |   9.99999 | 7.532028092782639e-05%   |\n",
            "+-------------------------+-----------+--------------------------+\n",
            "| Jika semua bekerja sama | 380       | -4.24280660569677e-06%   |\n",
            "+-------------------------+-----------+--------------------------+\n"
          ]
        }
      ],
      "source": [
        "# Hasil akhir\n",
        "galat1= (np.linalg.solve(A, b)[0]-solution[0])*100/np.linalg.solve(A, b)[0]\n",
        "galat2= (np.linalg.solve(A, b)[1]-solution[1])*100/np.linalg.solve(A, b)[1]\n",
        "galat3= (10*np.linalg.solve(A, b)[0]+29*np.linalg.solve(A, b)[1]-(10*solution[0]+29*solution[1]))*100/(10*np.linalg.solve(A, b)[0]+29*np.linalg.solve(A, b)[1])\n",
        "tabel = [[\"Eminor\", solution[0], f\"{galat1}%\"],\n",
        "         [\"Emayor\", solution[1], f\"{galat2}%\"],\n",
        "         [\"Jika semua bekerja sama\", 10*solution[0]+29*solution[1],f\"{galat3}%\"]\n",
        "\n",
        "         ]\n",
        "headers = [\"kubu\", \"solved\", \"galat relatif\"]\n",
        "print(tbl.tabulate(tabel, headers=headers, tablefmt=\"grid\"))"
      ]
    },
    {
      "cell_type": "markdown",
      "id": "OWZ8dVn5p6nS",
      "metadata": {
        "id": "OWZ8dVn5p6nS"
      },
      "source": [
        "**D. Kesimpulan (opsional)**"
      ]
    }
  ],
  "metadata": {
    "colab": {
      "provenance": []
    },
    "kernelspec": {
      "display_name": "Python 3",
      "language": "python",
      "name": "python3"
    },
    "language_info": {
      "codemirror_mode": {
        "name": "ipython",
        "version": 3
      },
      "file_extension": ".py",
      "mimetype": "text/x-python",
      "name": "python",
      "nbconvert_exporter": "python",
      "pygments_lexer": "ipython3",
      "version": "3.13.3"
    }
  },
  "nbformat": 4,
  "nbformat_minor": 5
}
