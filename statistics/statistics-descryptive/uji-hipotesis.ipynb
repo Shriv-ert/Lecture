{
 "cells": [
  {
   "cell_type": "markdown",
   "id": "0a930abc",
   "metadata": {},
   "source": [
    "# ***LEMBAR KERJA 3 UJI HIPOTESIS 1***\n",
    "Nama: Shofwan Fikrul Huda\n",
    "\n",
    "NIM: 24060124130106\n",
    "\n",
    "Kelas: E\n",
    "___"
   ]
  },
  {
   "cell_type": "code",
   "execution_count": 7,
   "id": "0c20dcba",
   "metadata": {},
   "outputs": [],
   "source": [
    "import random\n",
    "import pandas as pd\n",
    "from statsmodels.stats.weightstats import ztest"
   ]
  },
  {
   "cell_type": "markdown",
   "id": "7a950ecd",
   "metadata": {},
   "source": [
    "### **Kasus 1**\n",
    "\n",
    "Buatlah data simulasi berupa 100 kali lemparan dadu yang tidak adil, dimana angka 6 memiliki\n",
    "kemungkinan 2x lebih besar untuk muncul pada setiap lemparan. Gunakan Z-Test untuk\n",
    "mengetahui apakah simulasi lemparan dadu tersebut kemungkinan besar berasal dari dadu\n",
    "yang adil, jika diketahui rata-rata lemparan dadu yang diharapkan adalah 3.5?"
   ]
  },
  {
   "cell_type": "markdown",
   "id": "3c9c7a45",
   "metadata": {},
   "source": [
    "### **Penyelasaian**"
   ]
  },
  {
   "cell_type": "code",
   "execution_count": 8,
   "id": "6ef140d3",
   "metadata": {},
   "outputs": [
    {
     "data": {
      "text/html": [
       "<div>\n",
       "<style scoped>\n",
       "    .dataframe tbody tr th:only-of-type {\n",
       "        vertical-align: middle;\n",
       "    }\n",
       "\n",
       "    .dataframe tbody tr th {\n",
       "        vertical-align: top;\n",
       "    }\n",
       "\n",
       "    .dataframe thead th {\n",
       "        text-align: right;\n",
       "    }\n",
       "</style>\n",
       "<table border=\"1\" class=\"dataframe\">\n",
       "  <thead>\n",
       "    <tr style=\"text-align: right;\">\n",
       "      <th></th>\n",
       "      <th>lemparan</th>\n",
       "    </tr>\n",
       "  </thead>\n",
       "  <tbody>\n",
       "    <tr>\n",
       "      <th>0</th>\n",
       "      <td>6</td>\n",
       "    </tr>\n",
       "    <tr>\n",
       "      <th>1</th>\n",
       "      <td>3</td>\n",
       "    </tr>\n",
       "    <tr>\n",
       "      <th>2</th>\n",
       "      <td>5</td>\n",
       "    </tr>\n",
       "    <tr>\n",
       "      <th>3</th>\n",
       "      <td>3</td>\n",
       "    </tr>\n",
       "    <tr>\n",
       "      <th>4</th>\n",
       "      <td>6</td>\n",
       "    </tr>\n",
       "    <tr>\n",
       "      <th>...</th>\n",
       "      <td>...</td>\n",
       "    </tr>\n",
       "    <tr>\n",
       "      <th>95</th>\n",
       "      <td>5</td>\n",
       "    </tr>\n",
       "    <tr>\n",
       "      <th>96</th>\n",
       "      <td>1</td>\n",
       "    </tr>\n",
       "    <tr>\n",
       "      <th>97</th>\n",
       "      <td>6</td>\n",
       "    </tr>\n",
       "    <tr>\n",
       "      <th>98</th>\n",
       "      <td>4</td>\n",
       "    </tr>\n",
       "    <tr>\n",
       "      <th>99</th>\n",
       "      <td>2</td>\n",
       "    </tr>\n",
       "  </tbody>\n",
       "</table>\n",
       "<p>100 rows × 1 columns</p>\n",
       "</div>"
      ],
      "text/plain": [
       "    lemparan\n",
       "0          6\n",
       "1          3\n",
       "2          5\n",
       "3          3\n",
       "4          6\n",
       "..       ...\n",
       "95         5\n",
       "96         1\n",
       "97         6\n",
       "98         4\n",
       "99         2\n",
       "\n",
       "[100 rows x 1 columns]"
      ]
     },
     "execution_count": 8,
     "metadata": {},
     "output_type": "execute_result"
    }
   ],
   "source": [
    "# Simulasi 100x lemparan dadu, angka 6 lebih sering muncul 2x\n",
    "simulasi = []\n",
    "for i in range(100):\n",
    "    lemparan = random.choice([1, 2, 3, 4, 5, 6, 6])\n",
    "    d = {\"lemparan\" : lemparan}\n",
    "    simulasi.append(d)\n",
    "\n",
    "df = pd.DataFrame(simulasi)\n",
    "'''\n",
    "# Hitung frekuensi dan tampilkan tabel rapi\n",
    "frekuensi = df['lemparan'].value_counts().reset_index()\n",
    "frekuensi.columns = ['Nilai', 'Frekuensi']\n",
    "\n",
    "\n",
    "frekuensi.head()\n",
    "'''\n",
    "df"
   ]
  },
  {
   "cell_type": "markdown",
   "id": "ba10da44",
   "metadata": {},
   "source": [
    "#### **Uji 1**"
   ]
  },
  {
   "cell_type": "code",
   "execution_count": 13,
   "id": "139dd100",
   "metadata": {},
   "outputs": [
    {
     "name": "stdout",
     "output_type": "stream",
     "text": [
      "Uji hipotesis 100 kali lemparan\n",
      "Hasil simulasi ke 1\n",
      "   Nilai  Frekuensi\n",
      "0      6         35\n",
      "1      4         24\n",
      "2      2         14\n",
      "3      3         13\n",
      "4      5         10\n",
      "5      1          4\n",
      "Z-Test: 4.867842889066627\n",
      "P-value: 1.1282296625037615e-06\n",
      "H0 Ditolak: Simulasi kemungkinan tidak berasal dari dadu yang adil.\n",
      "Hasil simulasi ke 2\n",
      "   Nilai  Frekuensi\n",
      "0      6         25\n",
      "1      1         20\n",
      "2      3         14\n",
      "3      5         14\n",
      "4      4         14\n",
      "5      2         13\n",
      "Z-Test: 0.7477490425974448\n",
      "P-value: 0.4546115436703213\n",
      "H0 Diterima: Simulasi mungkin berasal dari dadu yang adil.\n",
      "Hasil simulasi ke 3\n",
      "   Nilai  Frekuensi\n",
      "0      6         34\n",
      "1      1         20\n",
      "2      2         14\n",
      "3      5         11\n",
      "4      4         11\n",
      "5      3         10\n",
      "Z-Test: 1.5631004714341739\n",
      "P-value: 0.11802896477548133\n",
      "H0 Diterima: Simulasi mungkin berasal dari dadu yang adil.\n"
     ]
    }
   ],
   "source": [
    "# Menerapkan one-sample Z-test 3 kali percobaan\n",
    "# Langkah 1: Mendefinisikan Hipotesis Nol dan Hipotesis Alternatif\n",
    "# H0:Simulasi mungkin berasal dari dadu yang adil\n",
    "# H1:Simulasi kemungkinan tidak berasal dari dadu yang adil\n",
    "# Langkah 2 dan 3: Menghitung Nilai Z-Test dan p-Value\n",
    "print(\"Uji hipotesis 100 kali lemparan\")\n",
    "for iter in range(3):\n",
    "    simulasi = []\n",
    "    print(\"Hasil simulasi ke\", iter + 1)\n",
    "    for i in range(100):\n",
    "        lemparan = random.choice([1, 2, 3, 4, 5, 6, 6])\n",
    "        d = {\"lemparan\": lemparan}\n",
    "        simulasi.append(d)\n",
    "        df = pd.DataFrame(simulasi)\n",
    "    # Hitung frekuensi dan tampilkan tabel rapi\n",
    "    frekuensi = df['lemparan'].value_counts().reset_index()\n",
    "    frekuensi.columns = ['Nilai', 'Frekuensi']\n",
    "    print(frekuensi)\n",
    "    z_test, p_value = ztest(df[\"lemparan\"], value=3.5)\n",
    "    # Print the results\n",
    "    print(\"Z-Test:\", z_test)\n",
    "    print(\"P-value:\", p_value)\n",
    "    # Langkah 4: Tarik Kesimpulan\n",
    "    alpha = 0.05 # Significance level\n",
    "    if p_value < alpha:\n",
    "        print(\"H0 Ditolak: Simulasi kemungkinan tidak berasal dari dadu yang adil.\")\n",
    "    else:\n",
    "        print(\"H0 Diterima: Simulasi mungkin berasal dari dadu yang adil.\")\n"
   ]
  },
  {
   "cell_type": "markdown",
   "id": "e677bb4d",
   "metadata": {},
   "source": [
    "### **Kesimpulan 2**\n",
    "\n",
    "Uji tersebut tidak efektif untuk menentukan kesimpulan karena sedikitnya lemparan dalam sekali simulasi. Sehingga dapat menyebabkan hasil yang berbeda pada beberapa pengulangan simulasi yang mengakibatkan $H_0$ Diterima 2 kali dan ditolak 1 kali dalam 3 kali simulasi."
   ]
  },
  {
   "cell_type": "markdown",
   "id": "7ffb86eb",
   "metadata": {},
   "source": [
    "#### **Uji 2**"
   ]
  },
  {
   "cell_type": "code",
   "execution_count": 14,
   "id": "fe88559a",
   "metadata": {},
   "outputs": [
    {
     "name": "stdout",
     "output_type": "stream",
     "text": [
      "Uji hipotesis 50 kali lemparan\n",
      "Hasil simulasi ke 1\n",
      "   Nilai  Frekuensi\n",
      "0      5         14\n",
      "1      6         12\n",
      "2      2         10\n",
      "3      3          7\n",
      "4      4          5\n",
      "5      1          2\n",
      "Z-Test: 2.6405173765401107\n",
      "P-value: 0.008277954752801698\n",
      "H0 Ditolak: Simulasi kemungkinan tidak berasal dari dadu yang adil.\n",
      "Hasil simulasi ke 2\n",
      "   Nilai  Frekuensi\n",
      "0      6         11\n",
      "1      4         10\n",
      "2      2          8\n",
      "3      5          8\n",
      "4      1          7\n",
      "5      3          6\n",
      "Z-Test: 0.9711793928930216\n",
      "P-value: 0.3314589537584286\n",
      "H0 Diterima: Simulasi mungkin berasal dari dadu yang adil.\n",
      "Hasil simulasi ke 3\n",
      "   Nilai  Frekuensi\n",
      "0      6         11\n",
      "1      3          9\n",
      "2      5          9\n",
      "3      1          9\n",
      "4      4          8\n",
      "5      2          4\n",
      "Z-Test: 0.9522732358103239\n",
      "P-value: 0.34095842765468176\n",
      "H0 Diterima: Simulasi mungkin berasal dari dadu yang adil.\n"
     ]
    }
   ],
   "source": [
    "# Menerapkan one-sample Z-test 3 kali percobaan\n",
    "# Langkah 1: Mendefinisikan Hipotesis Nol dan Hipotesis Alternatif\n",
    "# H0:Simulasi mungkin berasal dari dadu yang adil\n",
    "# H1:Simulasi kemungkinan tidak berasal dari dadu yang adil\n",
    "# Langkah 2 dan 3: Menghitung Nilai Z-Test dan p-Value\n",
    "print(\"Uji hipotesis 50 kali lemparan\")\n",
    "for iter in range(3):\n",
    "    simulasi = []\n",
    "    print(\"Hasil simulasi ke\", iter + 1)\n",
    "    for i in range(50):\n",
    "        lemparan = random.choice([1, 2, 3, 4, 5, 6, 6])\n",
    "        d = {\"lemparan\": lemparan}\n",
    "        simulasi.append(d)\n",
    "        df = pd.DataFrame(simulasi)\n",
    "    # Hitung frekuensi dan tampilkan tabel rapi\n",
    "    frekuensi = df['lemparan'].value_counts().reset_index()\n",
    "    frekuensi.columns = ['Nilai', 'Frekuensi']\n",
    "    print(frekuensi)\n",
    "    z_test, p_value = ztest(df[\"lemparan\"], value=3.5)\n",
    "    # Print the results\n",
    "    print(\"Z-Test:\", z_test)\n",
    "    print(\"P-value:\", p_value)\n",
    "    # Langkah 4: Tarik Kesimpulan\n",
    "    alpha = 0.05 # Significance level\n",
    "    if p_value < alpha:\n",
    "        print(\"H0 Ditolak: Simulasi kemungkinan tidak berasal dari dadu yang adil.\")\n",
    "    else:\n",
    "        print(\"H0 Diterima: Simulasi mungkin berasal dari dadu yang adil.\")"
   ]
  },
  {
   "cell_type": "markdown",
   "id": "29246f23",
   "metadata": {},
   "source": [
    "### **Kesimpulan 2**\n",
    "\n",
    "Uji tersebut tidak efektif untuk menentukan kesimpulan karena sedikitnya lemparan dalam sekali simulasi. Sehingga dapat menyebabkan hasil yang tidak konsisten pada beberapa pengulangan simulasi yang mengakibatkan $H_0$ Diterima 2 kali dan ditolak 1 kali dalam 3 kali simulasi."
   ]
  },
  {
   "cell_type": "markdown",
   "id": "50d0ce5e",
   "metadata": {},
   "source": [
    "### **Uji 3**"
   ]
  },
  {
   "cell_type": "code",
   "execution_count": null,
   "id": "34dedde0",
   "metadata": {},
   "outputs": [
    {
     "name": "stdout",
     "output_type": "stream",
     "text": [
      "   Nilai  Frekuensi\n",
      "0      6       2851\n",
      "1      2       1520\n",
      "2      3       1492\n",
      "3      4       1390\n",
      "4      5       1383\n",
      "5      1       1364\n",
      "Z-Test: 19.227365925244282\n",
      "P-value: 2.1844510986875618e-82\n",
      "H0 Ditolak: Simulasi kemungkinan tidak berasal dari dadu yang adil.\n",
      "   Nilai  Frekuensi\n",
      "0      6       2809\n",
      "1      4       1495\n",
      "2      1       1458\n",
      "3      5       1425\n",
      "4      2       1413\n",
      "5      3       1400\n",
      "Z-Test: 19.07023168957571\n",
      "P-value: 4.463232134188164e-81\n",
      "H0 Ditolak: Simulasi kemungkinan tidak berasal dari dadu yang adil.\n",
      "   Nilai  Frekuensi\n",
      "0      6       2891\n",
      "1      2       1451\n",
      "2      3       1428\n",
      "3      1       1420\n",
      "4      5       1417\n",
      "5      4       1393\n",
      "Z-Test: 19.926520751652852\n",
      "P-value: 2.396544345935404e-88\n",
      "H0 Ditolak: Simulasi kemungkinan tidak berasal dari dadu yang adil.\n"
     ]
    }
   ],
   "source": [
    "# Menerapkan one-sample Z-test 3 kali percobaan\n",
    "# Langkah 1: Mendefinisikan Hipotesis Nol dan Hipotesis Alternatif\n",
    "# H0:Simulasi mungkin berasal dari dadu yang adil\n",
    "# H1:Simulasi kemungkinan tidak berasal dari dadu yang adil\n",
    "# Langkah 2 dan 3: Menghitung Nilai Z-Test dan p-Value\n",
    "print(\"Uji hipotesis 10000 kali lemparan\")\n",
    "for iter in range(3):\n",
    "    simulasi = []\n",
    "    print(\"Hasil simulasi ke\", iter + 1)\n",
    "    for i in range(10000):\n",
    "        lemparan = random.choice([1, 2, 3, 4, 5, 6, 6])\n",
    "        d = {\"lemparan\": lemparan}\n",
    "        simulasi.append(d)\n",
    "        df = pd.DataFrame(simulasi)\n",
    "    # Hitung frekuensi dan tampilkan tabel rapi\n",
    "    frekuensi = df['lemparan'].value_counts().reset_index()\n",
    "    frekuensi.columns = ['Nilai', 'Frekuensi']\n",
    "    print(frekuensi)\n",
    "    z_test, p_value = ztest(df[\"lemparan\"], value=3.5)\n",
    "    # Print the results\n",
    "    print(\"Z-Test:\", z_test)\n",
    "    print(\"P-value:\", p_value)\n",
    "    # Langkah 4: Tarik Kesimpulan\n",
    "    alpha = 0.05 # Significance level\n",
    "    if p_value < alpha:\n",
    "        print(\"H0 Ditolak: Simulasi kemungkinan tidak berasal dari dadu yang adil.\")\n",
    "    else:\n",
    "        print(\"H0 Diterima: Simulasi mungkin berasal dari dadu yang adil.\")"
   ]
  },
  {
   "cell_type": "markdown",
   "id": "579cc5c2",
   "metadata": {},
   "source": [
    "### **Kesimpulan 3**\n",
    "Simulasi tersebut efektif dalam menentukan kesimpulan karena jumlah lemparan yang banyak. sehingga dapat menghindari hal yang dapat membuat tidak seimbang dan membuktikan bahwa dadu tersebut tidak adil. Oleh karena itu, hasil dapat diterima karena konsisten dengan 3 kali penolakan $H_0$."
   ]
  },
  {
   "cell_type": "markdown",
   "id": "8c14d5e9",
   "metadata": {},
   "source": [
    "### **Kesimpulan**"
   ]
  },
  {
   "cell_type": "markdown",
   "id": "b4ce03ed",
   "metadata": {},
   "source": [
    "Banyak sampel sangat berpengaruh dalam melakukan simulasi untuk mengambil kesimpulan. Semakin banyak sampel yang ada, maka akan semakin kecil juga kesalahan dalam menyimpulkan hipotesis dari suatu simulasi dan memberikan hasil yang konsisten jika dilakukan beberapa kali simulasi."
   ]
  }
 ],
 "metadata": {
  "kernelspec": {
   "display_name": "Python 3",
   "language": "python",
   "name": "python3"
  },
  "language_info": {
   "codemirror_mode": {
    "name": "ipython",
    "version": 3
   },
   "file_extension": ".py",
   "mimetype": "text/x-python",
   "name": "python",
   "nbconvert_exporter": "python",
   "pygments_lexer": "ipython3",
   "version": "3.13.3"
  }
 },
 "nbformat": 4,
 "nbformat_minor": 5
}
