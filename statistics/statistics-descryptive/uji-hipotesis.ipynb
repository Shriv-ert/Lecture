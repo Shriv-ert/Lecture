{
 "cells": [
  {
   "cell_type": "markdown",
   "id": "0a930abc",
   "metadata": {},
   "source": [
    "# ***LEMBAR KERJA 3 UJI HIPOTESIS 1***\n",
    "Nama: Shofwan Fikrul Huda\n",
    "\n",
    "NIM: 24060124130106\n",
    "\n",
    "Kelas: E\n",
    "___"
   ]
  },
  {
   "cell_type": "code",
   "execution_count": 14,
   "id": "0c20dcba",
   "metadata": {},
   "outputs": [],
   "source": [
    "import random\n",
    "import pandas as pd\n",
    "from statsmodels.stats.weightstats import ztest"
   ]
  },
  {
   "cell_type": "markdown",
   "id": "7a950ecd",
   "metadata": {},
   "source": [
    "### **Kasus 1**\n",
    "\n",
    "Buatlah data simulasi berupa 100 kali lemparan dadu yang tidak adil, dimana angka 6 memiliki\n",
    "kemungkinan 2x lebih besar untuk muncul pada setiap lemparan. Gunakan Z-Test untuk\n",
    "mengetahui apakah simulasi lemparan dadu tersebut kemungkinan besar berasal dari dadu\n",
    "yang adil, jika diketahui rata-rata lemparan dadu yang diharapkan adalah 3.5?"
   ]
  },
  {
   "cell_type": "code",
   "execution_count": 133,
   "id": "6ef140d3",
   "metadata": {},
   "outputs": [
    {
     "data": {
      "text/html": [
       "<style type=\"text/css\">\n",
       "#T_4c08c td {\n",
       "  border: 1px solid black;\n",
       "}\n",
       "#T_4c08c  th {\n",
       "  border: 1px solid black;\n",
       "}\n",
       "#T_4c08c table {\n",
       "  border-collapse: collapse;\n",
       "}\n",
       "</style>\n",
       "<table id=\"T_4c08c\">\n",
       "  <thead>\n",
       "    <tr>\n",
       "      <th class=\"blank level0\" >&nbsp;</th>\n",
       "      <th id=\"T_4c08c_level0_col0\" class=\"col_heading level0 col0\" >count</th>\n",
       "    </tr>\n",
       "    <tr>\n",
       "      <th class=\"index_name level0\" >lemparan</th>\n",
       "      <th class=\"blank col0\" >&nbsp;</th>\n",
       "    </tr>\n",
       "  </thead>\n",
       "  <tbody>\n",
       "    <tr>\n",
       "      <th id=\"T_4c08c_level0_row0\" class=\"row_heading level0 row0\" >6</th>\n",
       "      <td id=\"T_4c08c_row0_col0\" class=\"data row0 col0\" >29</td>\n",
       "    </tr>\n",
       "    <tr>\n",
       "      <th id=\"T_4c08c_level0_row1\" class=\"row_heading level0 row1\" >5</th>\n",
       "      <td id=\"T_4c08c_row1_col0\" class=\"data row1 col0\" >22</td>\n",
       "    </tr>\n",
       "    <tr>\n",
       "      <th id=\"T_4c08c_level0_row2\" class=\"row_heading level0 row2\" >4</th>\n",
       "      <td id=\"T_4c08c_row2_col0\" class=\"data row2 col0\" >14</td>\n",
       "    </tr>\n",
       "    <tr>\n",
       "      <th id=\"T_4c08c_level0_row3\" class=\"row_heading level0 row3\" >3</th>\n",
       "      <td id=\"T_4c08c_row3_col0\" class=\"data row3 col0\" >13</td>\n",
       "    </tr>\n",
       "    <tr>\n",
       "      <th id=\"T_4c08c_level0_row4\" class=\"row_heading level0 row4\" >2</th>\n",
       "      <td id=\"T_4c08c_row4_col0\" class=\"data row4 col0\" >12</td>\n",
       "    </tr>\n",
       "    <tr>\n",
       "      <th id=\"T_4c08c_level0_row5\" class=\"row_heading level0 row5\" >1</th>\n",
       "      <td id=\"T_4c08c_row5_col0\" class=\"data row5 col0\" >10</td>\n",
       "    </tr>\n",
       "  </tbody>\n",
       "</table>\n"
      ],
      "text/plain": [
       "<pandas.io.formats.style.Styler at 0x2803aac87d0>"
      ]
     },
     "execution_count": 133,
     "metadata": {},
     "output_type": "execute_result"
    }
   ],
   "source": [
    "# Simulasi 100x lemparan dadu, angka 6 lebih sering muncul 2x\n",
    "simulasi = []\n",
    "for i in range(100):\n",
    "    lemparan = random.choice([1, 2, 3, 4, 5, 6, 6])\n",
    "    d = {\"lemparan\": lemparan}\n",
    "    simulasi.append(d)\n",
    "\n",
    "df = pd.DataFrame(simulasi)\n",
    "\n",
    "# hitung frekuensi\n",
    "frekuensi = pd.DataFrame(df['lemparan'].value_counts())\n",
    "\n",
    "\n",
    "frekuensi.style.set_table_styles([\n",
    "    {'selector': 'td, th', 'props': [('border', '1px solid black')]},\n",
    "    {'selector': 'table', 'props': [('border-collapse', 'collapse')]}\n",
    "])"
   ]
  },
  {
   "cell_type": "code",
   "execution_count": 171,
   "id": "139dd100",
   "metadata": {},
   "outputs": [
    {
     "name": "stdout",
     "output_type": "stream",
     "text": [
      "Z-Test: -0.5444329027793444\n",
      "P-value: 0.5861436091345336\n",
      "H0 Diterima: Simulasi mungkin berasal dari dadu yang adil.\n",
      "Z-Test: 3.1245537578699243\n",
      "P-value: 0.001780749797442068\n",
      "H0 Ditolak: Simulasi kemungkinan tidak berasal dari dadu yang adil.\n",
      "Z-Test: 3.0137490126085886\n",
      "P-value: 0.0025804118321057557\n",
      "H0 Ditolak: Simulasi kemungkinan tidak berasal dari dadu yang adil.\n"
     ]
    }
   ],
   "source": [
    "# Menerapkan one-sample Z-test 3 kali percobaan\n",
    "# Langkah 1: Mendefinisikan Hipotesis Nol dan Hipotesis Alternatif\n",
    "# H0:Simulasi mungkin berasal dari dadu yang adil\n",
    "# H1:Simulasi kemungkinan tidak berasal dari dadu yang adil\n",
    "# Langkah 2 dan 3: Menghitung Nilai Z-Test dan p-Value\n",
    "\n",
    "for iter in range(3):\n",
    "    simulasi = []\n",
    "    for i in range(100):\n",
    "        lemparan = random.choice([1, 2, 3, 4, 5, 6, 6])\n",
    "        d = {\"lemparan\": lemparan}\n",
    "        simulasi.append(d)\n",
    "        df = pd.DataFrame(simulasi)\n",
    "    z_test, p_value = ztest(df[\"lemparan\"], value=3.5)\n",
    "    # Print the results\n",
    "    print(\"Z-Test:\", z_test)\n",
    "    print(\"P-value:\", p_value)\n",
    "    # Langkah 4: Tarik Kesimpulan\n",
    "    alpha = 0.05 # Significance level\n",
    "    if p_value < alpha:\n",
    "        print(\"H0 Ditolak: Simulasi kemungkinan tidak berasal dari dadu yang adil.\")\n",
    "    else:\n",
    "        print(\"H0 Diterima: Simulasi mungkin berasal dari dadu yang adil.\")\n"
   ]
  },
  {
   "cell_type": "code",
   "execution_count": 172,
   "id": "fe88559a",
   "metadata": {},
   "outputs": [
    {
     "name": "stdout",
     "output_type": "stream",
     "text": [
      "Z-Test: 0.8160150140436481\n",
      "P-value: 0.41449154861760695\n",
      "H0 Diterima: Simulasi mungkin berasal dari dadu yang adil.\n",
      "Z-Test: 1.6946370914726463\n",
      "P-value: 0.09014428622634853\n",
      "H0 Diterima: Simulasi mungkin berasal dari dadu yang adil.\n",
      "Z-Test: 3.262042224525298\n",
      "P-value: 0.0011061266617386372\n",
      "H0 Ditolak: Simulasi kemungkinan tidak berasal dari dadu yang adil.\n"
     ]
    }
   ],
   "source": [
    "# Menerapkan one-sample Z-test 3 kali percobaan\n",
    "# Langkah 1: Mendefinisikan Hipotesis Nol dan Hipotesis Alternatif\n",
    "# H0:Simulasi mungkin berasal dari dadu yang adil\n",
    "# H1:Simulasi kemungkinan tidak berasal dari dadu yang adil\n",
    "# Langkah 2 dan 3: Menghitung Nilai Z-Test dan p-Value\n",
    "\n",
    "for iter in range(3):\n",
    "    simulasi = []\n",
    "    for i in range(50):\n",
    "        lemparan = random.choice([1, 2, 3, 4, 5, 6, 6])\n",
    "        d = {\"lemparan\": lemparan}\n",
    "        simulasi.append(d)\n",
    "        df = pd.DataFrame(simulasi)\n",
    "    z_test, p_value = ztest(df[\"lemparan\"], value=3.5)\n",
    "    # Print the results\n",
    "    print(\"Z-Test:\", z_test)\n",
    "    print(\"P-value:\", p_value)\n",
    "    # Langkah 4: Tarik Kesimpulan\n",
    "    alpha = 0.05 # Significance level\n",
    "    if p_value < alpha:\n",
    "        print(\"H0 Ditolak: Simulasi kemungkinan tidak berasal dari dadu yang adil.\")\n",
    "    else:\n",
    "        print(\"H0 Diterima: Simulasi mungkin berasal dari dadu yang adil.\")"
   ]
  },
  {
   "cell_type": "code",
   "execution_count": 174,
   "id": "34dedde0",
   "metadata": {},
   "outputs": [
    {
     "name": "stdout",
     "output_type": "stream",
     "text": [
      "Z-Test: 21.13033809573432\n",
      "P-value: 4.185397660000214e-99\n",
      "H0 Ditolak: Simulasi kemungkinan tidak berasal dari dadu yang adil.\n",
      "Z-Test: 20.311880330660987\n",
      "P-value: 1.009641756593606e-91\n",
      "H0 Ditolak: Simulasi kemungkinan tidak berasal dari dadu yang adil.\n",
      "Z-Test: 19.449425137367726\n",
      "P-value: 2.947164618195989e-84\n",
      "H0 Ditolak: Simulasi kemungkinan tidak berasal dari dadu yang adil.\n"
     ]
    }
   ],
   "source": [
    "# Menerapkan one-sample Z-test 3 kali percobaan\n",
    "# Langkah 1: Mendefinisikan Hipotesis Nol dan Hipotesis Alternatif\n",
    "# H0:Simulasi mungkin berasal dari dadu yang adil\n",
    "# H1:Simulasi kemungkinan tidak berasal dari dadu yang adil\n",
    "# Langkah 2 dan 3: Menghitung Nilai Z-Test dan p-Value\n",
    "\n",
    "for iter in range(3):\n",
    "    simulasi = []\n",
    "    for i in range(10000):\n",
    "        lemparan = random.choice([1, 2, 3, 4, 5, 6, 6])\n",
    "        d = {\"lemparan\": lemparan}\n",
    "        simulasi.append(d)\n",
    "        df = pd.DataFrame(simulasi)\n",
    "    z_test, p_value = ztest(df[\"lemparan\"], value=3.5)\n",
    "    # Print the results\n",
    "    print(\"Z-Test:\", z_test)\n",
    "    print(\"P-value:\", p_value)\n",
    "    # Langkah 4: Tarik Kesimpulan\n",
    "    alpha = 0.05 # Significance level\n",
    "    if p_value < alpha:\n",
    "        print(\"H0 Ditolak: Simulasi kemungkinan tidak berasal dari dadu yang adil.\")\n",
    "    else:\n",
    "        print(\"H0 Diterima: Simulasi mungkin berasal dari dadu yang adil.\")"
   ]
  }
 ],
 "metadata": {
  "kernelspec": {
   "display_name": "Python 3",
   "language": "python",
   "name": "python3"
  },
  "language_info": {
   "codemirror_mode": {
    "name": "ipython",
    "version": 3
   },
   "file_extension": ".py",
   "mimetype": "text/x-python",
   "name": "python",
   "nbconvert_exporter": "python",
   "pygments_lexer": "ipython3",
   "version": "3.13.3"
  }
 },
 "nbformat": 4,
 "nbformat_minor": 5
}
