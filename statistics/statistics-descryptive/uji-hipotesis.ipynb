{
 "cells": [
  {
   "cell_type": "markdown",
   "id": "0a930abc",
   "metadata": {},
   "source": [
    "# ***LEMBAR KERJA 3 UJI HIPOTESIS 1***\n",
    "Nama: Shofwan Fikrul Huda\n",
    "\n",
    "NIM: 24060124130106\n",
    "\n",
    "Kelas: E\n",
    "___"
   ]
  },
  {
   "cell_type": "code",
   "execution_count": 14,
   "id": "0c20dcba",
   "metadata": {},
   "outputs": [],
   "source": [
    "import random\n",
    "import pandas as pd\n",
    "from statsmodels.stats.weightstats import ztest"
   ]
  },
  {
   "cell_type": "markdown",
   "id": "7a950ecd",
   "metadata": {},
   "source": [
    "### **Kasus 1**\n",
    "\n",
    "Buatlah data simulasi berupa 100 kali lemparan dadu yang tidak adil, dimana angka 6 memiliki\n",
    "kemungkinan 2x lebih besar untuk muncul pada setiap lemparan. Gunakan Z-Test untuk\n",
    "mengetahui apakah simulasi lemparan dadu tersebut kemungkinan besar berasal dari dadu\n",
    "yang adil, jika diketahui rata-rata lemparan dadu yang diharapkan adalah 3.5?"
   ]
  },
  {
   "cell_type": "markdown",
   "id": "3c9c7a45",
   "metadata": {},
   "source": [
    "### **Penyelasaian**"
   ]
  },
  {
   "cell_type": "code",
   "execution_count": null,
   "id": "dc07169a",
   "metadata": {},
   "outputs": [],
   "source": []
  },
  {
   "cell_type": "code",
   "execution_count": 188,
   "id": "6ef140d3",
   "metadata": {},
   "outputs": [
    {
     "data": {
      "text/html": [
       "<div>\n",
       "<style scoped>\n",
       "    .dataframe tbody tr th:only-of-type {\n",
       "        vertical-align: middle;\n",
       "    }\n",
       "\n",
       "    .dataframe tbody tr th {\n",
       "        vertical-align: top;\n",
       "    }\n",
       "\n",
       "    .dataframe thead th {\n",
       "        text-align: right;\n",
       "    }\n",
       "</style>\n",
       "<table border=\"1\" class=\"dataframe\">\n",
       "  <thead>\n",
       "    <tr style=\"text-align: right;\">\n",
       "      <th></th>\n",
       "      <th>Nilai</th>\n",
       "      <th>Frekuensi</th>\n",
       "    </tr>\n",
       "  </thead>\n",
       "  <tbody>\n",
       "    <tr>\n",
       "      <th>0</th>\n",
       "      <td>6</td>\n",
       "      <td>33</td>\n",
       "    </tr>\n",
       "    <tr>\n",
       "      <th>1</th>\n",
       "      <td>4</td>\n",
       "      <td>18</td>\n",
       "    </tr>\n",
       "    <tr>\n",
       "      <th>2</th>\n",
       "      <td>1</td>\n",
       "      <td>14</td>\n",
       "    </tr>\n",
       "    <tr>\n",
       "      <th>3</th>\n",
       "      <td>5</td>\n",
       "      <td>13</td>\n",
       "    </tr>\n",
       "    <tr>\n",
       "      <th>4</th>\n",
       "      <td>3</td>\n",
       "      <td>13</td>\n",
       "    </tr>\n",
       "  </tbody>\n",
       "</table>\n",
       "</div>"
      ],
      "text/plain": [
       "   Nilai  Frekuensi\n",
       "0      6         33\n",
       "1      4         18\n",
       "2      1         14\n",
       "3      5         13\n",
       "4      3         13"
      ]
     },
     "execution_count": 188,
     "metadata": {},
     "output_type": "execute_result"
    }
   ],
   "source": [
    "# Simulasi 100x lemparan dadu, angka 6 lebih sering muncul 2x\n",
    "simulasi = []\n",
    "for i in range(100):\n",
    "    lemparan = random.choice([1, 2, 3, 4, 5, 6, 6])\n",
    "    d = {\"lemparan\": lemparan}\n",
    "    simulasi.append(d)\n",
    "\n",
    "df = pd.DataFrame(simulasi)\n",
    "\n",
    "# Hitung frekuensi dan tampilkan tabel rapi\n",
    "frekuensi = df['lemparan'].value_counts().reset_index()\n",
    "frekuensi.columns = ['Nilai', 'Frekuensi']\n",
    "\n",
    "\n",
    "frekuensi.head()"
   ]
  },
  {
   "cell_type": "markdown",
   "id": "ba10da44",
   "metadata": {},
   "source": [
    "#### **Uji 1**"
   ]
  },
  {
   "cell_type": "code",
   "execution_count": 184,
   "id": "139dd100",
   "metadata": {},
   "outputs": [
    {
     "name": "stdout",
     "output_type": "stream",
     "text": [
      "Hasil simulasi ke 1\n",
      "   Nilai  Frekuensi\n",
      "0      6         28\n",
      "1      4         17\n",
      "2      2         16\n",
      "3      3         15\n",
      "4      5         14\n",
      "5      1         10\n",
      "Z-Test: 2.493078939699298\n",
      "P-value: 0.012664068758705979\n",
      "H0 Ditolak: Simulasi kemungkinan tidak berasal dari dadu yang adil.\n",
      "Hasil simulasi ke 2\n",
      "   Nilai  Frekuensi\n",
      "0      6         34\n",
      "1      1         16\n",
      "2      5         14\n",
      "3      4         13\n",
      "4      3         12\n",
      "5      2         11\n",
      "Z-Test: 2.659215781283755\n",
      "P-value: 0.00783227822380414\n",
      "H0 Ditolak: Simulasi kemungkinan tidak berasal dari dadu yang adil.\n",
      "Hasil simulasi ke 3\n",
      "   Nilai  Frekuensi\n",
      "0      6         33\n",
      "1      1         16\n",
      "2      2         15\n",
      "3      3         14\n",
      "4      5         11\n",
      "5      4         11\n",
      "Z-Test: 1.8386102917361389\n",
      "P-value: 0.0659725264395341\n",
      "H0 Diterima: Simulasi mungkin berasal dari dadu yang adil.\n"
     ]
    }
   ],
   "source": [
    "# Menerapkan one-sample Z-test 3 kali percobaan\n",
    "# Langkah 1: Mendefinisikan Hipotesis Nol dan Hipotesis Alternatif\n",
    "# H0:Simulasi mungkin berasal dari dadu yang adil\n",
    "# H1:Simulasi kemungkinan tidak berasal dari dadu yang adil\n",
    "# Langkah 2 dan 3: Menghitung Nilai Z-Test dan p-Value\n",
    "\n",
    "for iter in range(3):\n",
    "    simulasi = []\n",
    "    for i in range(100):\n",
    "        lemparan = random.choice([1, 2, 3, 4, 5, 6, 6])\n",
    "        d = {\"lemparan\": lemparan}\n",
    "        simulasi.append(d)\n",
    "        df = pd.DataFrame(simulasi)\n",
    "    print(\"Hasil simulasi ke\", iter + 1)\n",
    "    # Hitung frekuensi dan tampilkan tabel rapi\n",
    "    frekuensi = df['lemparan'].value_counts().reset_index()\n",
    "    frekuensi.columns = ['Nilai', 'Frekuensi']\n",
    "    print(frekuensi)\n",
    "    z_test, p_value = ztest(df[\"lemparan\"], value=3.5)\n",
    "    # Print the results\n",
    "    print(\"Z-Test:\", z_test)\n",
    "    print(\"P-value:\", p_value)\n",
    "    # Langkah 4: Tarik Kesimpulan\n",
    "    alpha = 0.05 # Significance level\n",
    "    if p_value < alpha:\n",
    "        print(\"H0 Ditolak: Simulasi kemungkinan tidak berasal dari dadu yang adil.\")\n",
    "    else:\n",
    "        print(\"H0 Diterima: Simulasi mungkin berasal dari dadu yang adil.\")\n"
   ]
  },
  {
   "cell_type": "markdown",
   "id": "e677bb4d",
   "metadata": {},
   "source": [
    "#### **Kesimpulan 1**"
   ]
  },
  {
   "cell_type": "markdown",
   "id": "7ffb86eb",
   "metadata": {},
   "source": [
    "#### **Uji 2**"
   ]
  },
  {
   "cell_type": "code",
   "execution_count": 187,
   "id": "fe88559a",
   "metadata": {},
   "outputs": [
    {
     "name": "stdout",
     "output_type": "stream",
     "text": [
      "   Nilai  Frekuensi\n",
      "0      6         17\n",
      "1      1         11\n",
      "2      2          7\n",
      "3      4          5\n",
      "4      5          5\n",
      "5      3          5\n",
      "Z-Test: 0.836618528628313\n",
      "P-value: 0.40280702725351725\n",
      "H0 Diterima: Simulasi mungkin berasal dari dadu yang adil.\n",
      "   Nilai  Frekuensi\n",
      "0      6         14\n",
      "1      5         11\n",
      "2      4          8\n",
      "3      3          6\n",
      "4      1          6\n",
      "5      2          5\n",
      "Z-Test: 2.45366619891534\n",
      "P-value: 0.01414081772210351\n",
      "H0 Ditolak: Simulasi kemungkinan tidak berasal dari dadu yang adil.\n",
      "   Nilai  Frekuensi\n",
      "0      6         16\n",
      "1      5         11\n",
      "2      4          8\n",
      "3      3          7\n",
      "4      2          6\n",
      "5      1          2\n",
      "Z-Test: 3.9266808283987604\n",
      "P-value: 8.612614733943084e-05\n",
      "H0 Ditolak: Simulasi kemungkinan tidak berasal dari dadu yang adil.\n"
     ]
    }
   ],
   "source": [
    "# Menerapkan one-sample Z-test 3 kali percobaan\n",
    "# Langkah 1: Mendefinisikan Hipotesis Nol dan Hipotesis Alternatif\n",
    "# H0:Simulasi mungkin berasal dari dadu yang adil\n",
    "# H1:Simulasi kemungkinan tidak berasal dari dadu yang adil\n",
    "# Langkah 2 dan 3: Menghitung Nilai Z-Test dan p-Value\n",
    "\n",
    "for iter in range(3):\n",
    "    simulasi = []\n",
    "    for i in range(50):\n",
    "        lemparan = random.choice([1, 2, 3, 4, 5, 6, 6])\n",
    "        d = {\"lemparan\": lemparan}\n",
    "        simulasi.append(d)\n",
    "        df = pd.DataFrame(simulasi)\n",
    "    # Hitung frekuensi dan tampilkan tabel rapi\n",
    "    frekuensi = df['lemparan'].value_counts().reset_index()\n",
    "    frekuensi.columns = ['Nilai', 'Frekuensi']\n",
    "    print(frekuensi)\n",
    "    z_test, p_value = ztest(df[\"lemparan\"], value=3.5)\n",
    "    # Print the results\n",
    "    print(\"Z-Test:\", z_test)\n",
    "    print(\"P-value:\", p_value)\n",
    "    # Langkah 4: Tarik Kesimpulan\n",
    "    alpha = 0.05 # Significance level\n",
    "    if p_value < alpha:\n",
    "        print(\"H0 Ditolak: Simulasi kemungkinan tidak berasal dari dadu yang adil.\")\n",
    "    else:\n",
    "        print(\"H0 Diterima: Simulasi mungkin berasal dari dadu yang adil.\")"
   ]
  },
  {
   "cell_type": "markdown",
   "id": "29246f23",
   "metadata": {},
   "source": [
    "### **Kesimpulan 2**"
   ]
  },
  {
   "cell_type": "markdown",
   "id": "50d0ce5e",
   "metadata": {},
   "source": [
    "### **Uji 3**"
   ]
  },
  {
   "cell_type": "code",
   "execution_count": 186,
   "id": "34dedde0",
   "metadata": {},
   "outputs": [
    {
     "name": "stdout",
     "output_type": "stream",
     "text": [
      "   Nilai  Frekuensi\n",
      "0      6       2835\n",
      "1      4       1460\n",
      "2      5       1432\n",
      "3      2       1432\n",
      "4      1       1429\n",
      "5      3       1412\n",
      "Z-Test: 19.611899716526995\n",
      "P-value: 1.2237458920158484e-85\n",
      "H0 Ditolak: Simulasi kemungkinan tidak berasal dari dadu yang adil.\n",
      "   Nilai  Frekuensi\n",
      "0      6       2854\n",
      "1      1       1471\n",
      "2      3       1463\n",
      "3      5       1444\n",
      "4      4       1398\n",
      "5      2       1370\n",
      "Z-Test: 19.515087747052554\n",
      "P-value: 8.172868926355107e-85\n",
      "H0 Ditolak: Simulasi kemungkinan tidak berasal dari dadu yang adil.\n",
      "   Nilai  Frekuensi\n",
      "0      6       2885\n",
      "1      5       1492\n",
      "2      4       1425\n",
      "3      1       1415\n",
      "4      2       1402\n",
      "5      3       1381\n",
      "Z-Test: 21.216054293872222\n",
      "P-value: 6.788774601729718e-100\n",
      "H0 Ditolak: Simulasi kemungkinan tidak berasal dari dadu yang adil.\n"
     ]
    }
   ],
   "source": [
    "# Menerapkan one-sample Z-test 3 kali percobaan\n",
    "# Langkah 1: Mendefinisikan Hipotesis Nol dan Hipotesis Alternatif\n",
    "# H0:Simulasi mungkin berasal dari dadu yang adil\n",
    "# H1:Simulasi kemungkinan tidak berasal dari dadu yang adil\n",
    "# Langkah 2 dan 3: Menghitung Nilai Z-Test dan p-Value\n",
    "\n",
    "for iter in range(3):\n",
    "    simulasi = []\n",
    "    for i in range(10000):\n",
    "        lemparan = random.choice([1, 2, 3, 4, 5, 6, 6])\n",
    "        d = {\"lemparan\": lemparan}\n",
    "        simulasi.append(d)\n",
    "        df = pd.DataFrame(simulasi)\n",
    "    # Hitung frekuensi dan tampilkan tabel rapi\n",
    "    frekuensi = df['lemparan'].value_counts().reset_index()\n",
    "    frekuensi.columns = ['Nilai', 'Frekuensi']\n",
    "    print(frekuensi)\n",
    "    z_test, p_value = ztest(df[\"lemparan\"], value=3.5)\n",
    "    # Print the results\n",
    "    print(\"Z-Test:\", z_test)\n",
    "    print(\"P-value:\", p_value)\n",
    "    # Langkah 4: Tarik Kesimpulan\n",
    "    alpha = 0.05 # Significance level\n",
    "    if p_value < alpha:\n",
    "        print(\"H0 Ditolak: Simulasi kemungkinan tidak berasal dari dadu yang adil.\")\n",
    "    else:\n",
    "        print(\"H0 Diterima: Simulasi mungkin berasal dari dadu yang adil.\")"
   ]
  },
  {
   "cell_type": "markdown",
   "id": "579cc5c2",
   "metadata": {},
   "source": [
    "### **Kesimpulan 3**"
   ]
  },
  {
   "cell_type": "markdown",
   "id": "8c14d5e9",
   "metadata": {},
   "source": [
    "### **Kesimpulan**"
   ]
  }
 ],
 "metadata": {
  "kernelspec": {
   "display_name": "Python 3",
   "language": "python",
   "name": "python3"
  },
  "language_info": {
   "codemirror_mode": {
    "name": "ipython",
    "version": 3
   },
   "file_extension": ".py",
   "mimetype": "text/x-python",
   "name": "python",
   "nbconvert_exporter": "python",
   "pygments_lexer": "ipython3",
   "version": "3.13.3"
  }
 },
 "nbformat": 4,
 "nbformat_minor": 5
}
