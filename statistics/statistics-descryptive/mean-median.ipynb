{
 "cells": [
  {
   "cell_type": "markdown",
   "id": "20446566",
   "metadata": {},
   "source": [
    "# ***LEMBAR KERJA 1 STASTIKA DESKRIPTIF***\n",
    "Nama: Shofwan Fikrul Huda\n",
    "\n",
    "NIM: 24060124130106\n",
    "\n",
    "Kelas: E\n",
    "___"
   ]
  },
  {
   "cell_type": "markdown",
   "id": "3157391e",
   "metadata": {},
   "source": [
    "Secara umum statiska deskriptif Bertujuan untuk meringkas data (numeric or categorical)\n",
    "dengan cara yang informatif, ringkas, dan jelas dalam\n",
    "bentuk/representasi numerik atau grafis."
   ]
  },
  {
   "cell_type": "markdown",
   "id": "617dcdd3",
   "metadata": {},
   "source": [
    "Pada lembar kerja ini akan berfokus pada *central tedency* yakni nilai *mean* dan *median*. Pertama, untuk mendapatkan datanya dan mengoperasikannya, kita akan import library pandas."
   ]
  },
  {
   "cell_type": "code",
   "execution_count": 39,
   "id": "aa7a6e2c",
   "metadata": {},
   "outputs": [],
   "source": [
    "import pandas as pd    # untuk manipulasi data tabular"
   ]
  },
  {
   "cell_type": "markdown",
   "id": "bb52d3b1",
   "metadata": {},
   "source": [
    "Setelah import library, kita akan mengambil data Latihan.csv"
   ]
  },
  {
   "cell_type": "code",
   "execution_count": 40,
   "id": "e6655f91",
   "metadata": {},
   "outputs": [],
   "source": [
    "df=pd.read_csv('Latihan.csv')"
   ]
  },
  {
   "cell_type": "markdown",
   "id": "8f8d15f5",
   "metadata": {},
   "source": [
    "**1. Properti #1**\n"
   ]
  },
  {
   "cell_type": "code",
   "execution_count": 41,
   "id": "e818d9b2",
   "metadata": {},
   "outputs": [
    {
     "name": "stdout",
     "output_type": "stream",
     "text": [
      "    Tipe1  Tipe2  Tipe3  Tipe4\n",
      "0       5      5      4      2\n",
      "1       5      3      2      3\n",
      "2       5      4      2      3\n",
      "3       5      3      2      2\n",
      "4       4      3      2      4\n",
      "5      15      8     12      8\n",
      "6       5      3      6      2\n",
      "7      15      7      2      6\n",
      "8       3      5     10      5\n",
      "9       3      5     10      4\n",
      "10      7      4      2      2\n",
      "11      6      3      2      4\n",
      "12      5      5     15      3\n",
      "13     12      6      2      2\n",
      "14      7      4      2      2\n",
      "15      5      3      2      6\n",
      "16     15      6      4      3\n",
      "17     10      8      5      6\n",
      "18      3     15      8      6\n",
      "19      7      4      2      2\n",
      "20      4      5      2      6\n",
      "21     10      5      7      3\n",
      "22     15      5      6      7\n",
      "23     10     15      5      4\n",
      "24      9      5      4      4\n",
      "25      7      4      2      4\n",
      "26      5      3      2      1\n",
      "27      8      6      6      2\n",
      "28      7      3      7      1\n",
      "29      3      5      8      5\n",
      "30      7      3      4      4\n",
      "31      5     13      5      4\n",
      "32      3      3      2      2\n",
      "33      7     10     12      7\n",
      "34      9      6      5      2\n",
      "35      8     12     15      6\n",
      "36      6      3      2      2\n",
      "37      7      3      2      3\n",
      "38     10      4      3      8\n",
      "39     12      5     10      5\n",
      "40     10      3      2      2\n",
      "41     15     10      6      4\n",
      "42      6      3      8      1\n",
      "43      4      2      1      6\n",
      "44      3     14     15      3\n",
      "45      2      3      2      2\n",
      "46      5      3      2      2\n",
      "47      6      5      3      5\n",
      "48      4      4      6      2\n",
      "49     10      3      7      2\n",
      "50     20     10     12      4\n",
      "51      6      3      2      1\n",
      "52     15     10      8      2\n",
      "53      4     20     12      5\n",
      "54     15      6      5      4\n",
      "55     20      5      3      6\n",
      "Mean: Tipe1    7.839286\n",
      "Tipe2    5.821429\n",
      "Tipe3    5.339286\n",
      "Tipe4    3.678571\n",
      "dtype: float64\n",
      "Median:\n",
      " Tipe1    7.0\n",
      "Tipe2    5.0\n",
      "Tipe3    4.0\n",
      "Tipe4    3.5\n",
      "dtype: float64\n",
      "Variance:\n",
      " Tipe1    19.482792\n",
      "Tipe2    14.476623\n",
      "Tipe3    15.246429\n",
      "Tipe4     3.494805\n",
      "dtype: float64\n",
      "Standard Deviation:\n",
      " Tipe1    4.413932\n",
      "Tipe2    3.804816\n",
      "Tipe3    3.904668\n",
      "Tipe4    1.869440\n",
      "dtype: float64\n"
     ]
    },
    {
     "data": {
      "image/png": "[encoded data removed]",
      "text/plain": [
       "<Figure size 640x480 with 1 Axes>"
      ]
     },
     "metadata": {},
     "output_type": "display_data"
    }
   ],
   "source": [
    "import pandas as pd    # untuk manipulasi data tabular\n",
    "import matplotlib.pyplot as plt  # untuk visualisasi\n",
    "import seaborn as sns    # visualisasi statistik yang lebih rapi\n",
    "df=pd.read_csv('Latihan.csv')\n",
    "print(df)\n",
    "print(\"Mean:\", df.mean())\n",
    "print(\"Median:\\n\", df.median())\n",
    "print(\"Variance:\\n\", df.var())\n",
    "print(\"Standard Deviation:\\n\", df.std())\n",
    "\n",
    "sns.histplot(df['Tipe1'], kde=True)\n",
    "plt.title(\"Distribusi Nilai Tipe1\")\n",
    "plt.xlabel(\"Nilai\")\n",
    "plt.ylabel(\"Frekuensi\")\n",
    "plt.show()"
   ]
  }
 ],
 "metadata": {
  "kernelspec": {
   "display_name": "Python 3",
   "language": "python",
   "name": "python3"
  },
  "language_info": {
   "codemirror_mode": {
    "name": "ipython",
    "version": 3
   },
   "file_extension": ".py",
   "mimetype": "text/x-python",
   "name": "python",
   "nbconvert_exporter": "python",
   "pygments_lexer": "ipython3",
   "version": "3.13.3"
  }
 },
 "nbformat": 4,
 "nbformat_minor": 5
}
