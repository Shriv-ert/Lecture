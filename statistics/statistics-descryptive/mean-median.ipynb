{
 "cells": [
  {
   "cell_type": "markdown",
   "id": "20446566",
   "metadata": {},
   "source": [
    "# ***LEMBAR KERJA 1 STASTIKA DESKRIPTIF***\n",
    "Nama: Shofwan Fikrul Huda\n",
    "\n",
    "NIM: 24060124130106\n",
    "\n",
    "Kelas: E\n",
    "___"
   ]
  },
  {
   "cell_type": "markdown",
   "id": "3157391e",
   "metadata": {},
   "source": [
    "Secara umum statiska deskriptif Bertujuan untuk meringkas data (numeric or categorical)\n",
    "dengan cara yang informatif, ringkas, dan jelas dalam\n",
    "bentuk/representasi numerik atau grafis."
   ]
  },
  {
   "cell_type": "markdown",
   "id": "617dcdd3",
   "metadata": {},
   "source": [
    "Pada lembar kerja ini akan berfokus pada *central tedency* yakni nilai *mean* dan *median*. Pertama, untuk mendapatkan datanya dan mengoperasikannya, kita akan import library pandas."
   ]
  },
  {
   "cell_type": "code",
   "execution_count": 228,
   "id": "aa7a6e2c",
   "metadata": {},
   "outputs": [],
   "source": [
    "import pandas as pd    # untuk manipulasi data tabular"
   ]
  },
  {
   "cell_type": "markdown",
   "id": "bb52d3b1",
   "metadata": {},
   "source": [
    "Setelah import library, kita akan mengambil data Latihan.csv"
   ]
  },
  {
   "cell_type": "code",
   "execution_count": 229,
   "id": "e6655f91",
   "metadata": {},
   "outputs": [
    {
     "name": "stdout",
     "output_type": "stream",
     "text": [
      "    Tipe1  Tipe2  Tipe3  Tipe4\n",
      "0       5      5      4      2\n",
      "1       5      3      2      3\n",
      "2       5      4      2      3\n",
      "3       5      3      2      2\n",
      "4       4      3      2      4\n",
      "5      15      8     12      8\n",
      "6       5      3      6      2\n",
      "7      15      7      2      6\n",
      "8       3      5     10      5\n",
      "9       3      5     10      4\n",
      "10      7      4      2      2\n",
      "11      6      3      2      4\n",
      "12      5      5     15      3\n",
      "13     12      6      2      2\n",
      "14      7      4      2      2\n",
      "15      5      3      2      6\n",
      "16     15      6      4      3\n",
      "17     10      8      5      6\n",
      "18      3     15      8      6\n",
      "19      7      4      2      2\n",
      "20      4      5      2      6\n",
      "21     10      5      7      3\n",
      "22     15      5      6      7\n",
      "23     10     15      5      4\n",
      "24      9      5      4      4\n",
      "25      7      4      2      4\n",
      "26      5      3      2      1\n",
      "27      8      6      6      2\n",
      "28      7      3      7      1\n",
      "29      3      5      8      5\n",
      "30      7      3      4      4\n",
      "31      5     13      5      4\n",
      "32      3      3      2      2\n",
      "33      7     10     12      7\n",
      "34      9      6      5      2\n",
      "35      8     12     15      6\n",
      "36      6      3      2      2\n",
      "37      7      3      2      3\n",
      "38     10      4      3      8\n",
      "39     12      5     10      5\n",
      "40     10      3      2      2\n",
      "41     15     10      6      4\n",
      "42      6      3      8      1\n",
      "43      4      2      1      6\n",
      "44      3     14     15      3\n",
      "45      2      3      2      2\n",
      "46      5      3      2      2\n",
      "47      6      5      3      5\n",
      "48      4      4      6      2\n",
      "49     10      3      7      2\n",
      "50     20     10     12      4\n",
      "51      6      3      2      1\n",
      "52     15     10      8      2\n",
      "53      4     20     12      5\n",
      "54     15      6      5      4\n",
      "55     20      5      3      6\n"
     ]
    }
   ],
   "source": [
    "df=pd.DataFrame(pd.read_csv('Latihan.csv'))\n",
    "print(df)"
   ]
  },
  {
   "cell_type": "markdown",
   "id": "8f8d15f5",
   "metadata": {},
   "source": [
    "**1. Properti #1: Menambah atau mengurangi dengan suatu nilai konstanta untuk semua dataset**\n",
    "\n",
    "Untuk menemukan properti pertama, kita akan mencari nilai mean (rata-rata) dan median (nilai\n",
    "tengah) dari kumpulan data, lalu menambahkan (atau mengurangi) suatu nilai konstanta yang\n",
    "sama untuk setiap baris dalam data, dan menemukan nilai rata-rata dan median yang baru."
   ]
  },
  {
   "cell_type": "markdown",
   "id": "dddd7651",
   "metadata": {},
   "source": [
    "Menghitung nilai *mean* dan *median* sebelum data dimodifikasi"
   ]
  },
  {
   "cell_type": "code",
   "execution_count": 230,
   "id": "724413d6",
   "metadata": {},
   "outputs": [
    {
     "data": {
      "text/html": [
       "<style type=\"text/css\">\n",
       "#T_5dc8a td {\n",
       "  border: 1px solid black;\n",
       "}\n",
       "#T_5dc8a  th {\n",
       "  border: 1px solid black;\n",
       "}\n",
       "#T_5dc8a table {\n",
       "  border-collapse: collapse;\n",
       "}\n",
       "</style>\n",
       "<table id=\"T_5dc8a\">\n",
       "  <thead>\n",
       "    <tr>\n",
       "      <th class=\"blank level0\" >&nbsp;</th>\n",
       "      <th id=\"T_5dc8a_level0_col0\" class=\"col_heading level0 col0\" >Mean</th>\n",
       "      <th id=\"T_5dc8a_level0_col1\" class=\"col_heading level0 col1\" >Median</th>\n",
       "    </tr>\n",
       "  </thead>\n",
       "  <tbody>\n",
       "    <tr>\n",
       "      <th id=\"T_5dc8a_level0_row0\" class=\"row_heading level0 row0\" >Tipe1</th>\n",
       "      <td id=\"T_5dc8a_row0_col0\" class=\"data row0 col0\" >7.839286</td>\n",
       "      <td id=\"T_5dc8a_row0_col1\" class=\"data row0 col1\" >7.000000</td>\n",
       "    </tr>\n",
       "    <tr>\n",
       "      <th id=\"T_5dc8a_level0_row1\" class=\"row_heading level0 row1\" >Tipe2</th>\n",
       "      <td id=\"T_5dc8a_row1_col0\" class=\"data row1 col0\" >5.821429</td>\n",
       "      <td id=\"T_5dc8a_row1_col1\" class=\"data row1 col1\" >5.000000</td>\n",
       "    </tr>\n",
       "    <tr>\n",
       "      <th id=\"T_5dc8a_level0_row2\" class=\"row_heading level0 row2\" >Tipe3</th>\n",
       "      <td id=\"T_5dc8a_row2_col0\" class=\"data row2 col0\" >5.339286</td>\n",
       "      <td id=\"T_5dc8a_row2_col1\" class=\"data row2 col1\" >4.000000</td>\n",
       "    </tr>\n",
       "    <tr>\n",
       "      <th id=\"T_5dc8a_level0_row3\" class=\"row_heading level0 row3\" >Tipe4</th>\n",
       "      <td id=\"T_5dc8a_row3_col0\" class=\"data row3 col0\" >3.678571</td>\n",
       "      <td id=\"T_5dc8a_row3_col1\" class=\"data row3 col1\" >3.500000</td>\n",
       "    </tr>\n",
       "  </tbody>\n",
       "</table>\n"
      ],
      "text/plain": [
       "<pandas.io.formats.style.Styler at 0x14c99a5e0d0>"
      ]
     },
     "execution_count": 230,
     "metadata": {},
     "output_type": "execute_result"
    }
   ],
   "source": [
    "stats_df = pd.DataFrame({\n",
    "    'Mean': df.mean(),\n",
    "    'Median': df.median()\n",
    "})\n",
    "\n",
    "stats_df.style.set_table_styles([\n",
    "    {'selector': 'td, th', 'props': [('border', '1px solid black')]},\n",
    "    {'selector': 'table', 'props': [('border-collapse', 'collapse')]}\n",
    "])"
   ]
  },
  {
   "cell_type": "markdown",
   "id": "021390f5",
   "metadata": {},
   "source": [
    "Menghitung nilai *mean* dan *median* setelah data dimodifikasi variabel ke-12\n",
    "konstanta = 5.7"
   ]
  },
  {
   "cell_type": "code",
   "execution_count": 231,
   "id": "1867bac9",
   "metadata": {},
   "outputs": [
    {
     "name": "stderr",
     "output_type": "stream",
     "text": [
      "C:\\Users\\Fikrul Huda\\AppData\\Local\\Temp\\ipykernel_19400\\2185555002.py:2: FutureWarning: Setting an item of incompatible dtype is deprecated and will raise an error in a future version of pandas. Value '10.7' has dtype incompatible with int64, please explicitly cast to a compatible dtype first.\n",
      "  df_add.loc[12] += 5.7   # Mengubah nilai variabel ke-12 dari df_add dengan ditambahkan konstanta = 5.7\n",
      "C:\\Users\\Fikrul Huda\\AppData\\Local\\Temp\\ipykernel_19400\\2185555002.py:2: FutureWarning: Setting an item of incompatible dtype is deprecated and will raise an error in a future version of pandas. Value '10.7' has dtype incompatible with int64, please explicitly cast to a compatible dtype first.\n",
      "  df_add.loc[12] += 5.7   # Mengubah nilai variabel ke-12 dari df_add dengan ditambahkan konstanta = 5.7\n",
      "C:\\Users\\Fikrul Huda\\AppData\\Local\\Temp\\ipykernel_19400\\2185555002.py:2: FutureWarning: Setting an item of incompatible dtype is deprecated and will raise an error in a future version of pandas. Value '20.7' has dtype incompatible with int64, please explicitly cast to a compatible dtype first.\n",
      "  df_add.loc[12] += 5.7   # Mengubah nilai variabel ke-12 dari df_add dengan ditambahkan konstanta = 5.7\n",
      "C:\\Users\\Fikrul Huda\\AppData\\Local\\Temp\\ipykernel_19400\\2185555002.py:2: FutureWarning: Setting an item of incompatible dtype is deprecated and will raise an error in a future version of pandas. Value '8.7' has dtype incompatible with int64, please explicitly cast to a compatible dtype first.\n",
      "  df_add.loc[12] += 5.7   # Mengubah nilai variabel ke-12 dari df_add dengan ditambahkan konstanta = 5.7\n"
     ]
    },
    {
     "data": {
      "text/html": [
       "<style type=\"text/css\">\n",
       "#T_c8bb2 td {\n",
       "  border: 1px solid black;\n",
       "}\n",
       "#T_c8bb2  th {\n",
       "  border: 1px solid black;\n",
       "}\n",
       "#T_c8bb2 table {\n",
       "  border-collapse: collapse;\n",
       "}\n",
       "</style>\n",
       "<table id=\"T_c8bb2\">\n",
       "  <thead>\n",
       "    <tr>\n",
       "      <th class=\"blank level0\" >&nbsp;</th>\n",
       "      <th id=\"T_c8bb2_level0_col0\" class=\"col_heading level0 col0\" >Mean</th>\n",
       "      <th id=\"T_c8bb2_level0_col1\" class=\"col_heading level0 col1\" >Median</th>\n",
       "    </tr>\n",
       "  </thead>\n",
       "  <tbody>\n",
       "    <tr>\n",
       "      <th id=\"T_c8bb2_level0_row0\" class=\"row_heading level0 row0\" >Tipe1</th>\n",
       "      <td id=\"T_c8bb2_row0_col0\" class=\"data row0 col0\" >7.941071</td>\n",
       "      <td id=\"T_c8bb2_row0_col1\" class=\"data row0 col1\" >7.000000</td>\n",
       "    </tr>\n",
       "    <tr>\n",
       "      <th id=\"T_c8bb2_level0_row1\" class=\"row_heading level0 row1\" >Tipe2</th>\n",
       "      <td id=\"T_c8bb2_row1_col0\" class=\"data row1 col0\" >5.923214</td>\n",
       "      <td id=\"T_c8bb2_row1_col1\" class=\"data row1 col1\" >5.000000</td>\n",
       "    </tr>\n",
       "    <tr>\n",
       "      <th id=\"T_c8bb2_level0_row2\" class=\"row_heading level0 row2\" >Tipe3</th>\n",
       "      <td id=\"T_c8bb2_row2_col0\" class=\"data row2 col0\" >5.441071</td>\n",
       "      <td id=\"T_c8bb2_row2_col1\" class=\"data row2 col1\" >4.000000</td>\n",
       "    </tr>\n",
       "    <tr>\n",
       "      <th id=\"T_c8bb2_level0_row3\" class=\"row_heading level0 row3\" >Tipe4</th>\n",
       "      <td id=\"T_c8bb2_row3_col0\" class=\"data row3 col0\" >3.780357</td>\n",
       "      <td id=\"T_c8bb2_row3_col1\" class=\"data row3 col1\" >4.000000</td>\n",
       "    </tr>\n",
       "  </tbody>\n",
       "</table>\n"
      ],
      "text/plain": [
       "<pandas.io.formats.style.Styler at 0x14c99a5de50>"
      ]
     },
     "execution_count": 231,
     "metadata": {},
     "output_type": "execute_result"
    }
   ],
   "source": [
    "df_add = df  \n",
    "df_add.loc[12] += 5.7   # Mengubah nilai variabel ke-12 dari df_add dengan ditambahkan konstanta = 5.7\n",
    "stats_df_add = pd.DataFrame({\n",
    "    'Mean': df_add.mean(),\n",
    "    'Median': df_add.median()\n",
    "})\n",
    "\n",
    "stats_df_add.style.set_table_styles([\n",
    "    {'selector': 'td, th', 'props': [('border', '1px solid black')]},\n",
    "    {'selector': 'table', 'props': [('border-collapse', 'collapse')]}\n",
    "])"
   ]
  },
  {
   "cell_type": "markdown",
   "id": "5807cfbd",
   "metadata": {},
   "source": [
    "Penambahan konstanta pada variabel ke-12 dapat sedikit memengaruhi nilai mean, tetapi nilai median masih tetap."
   ]
  },
  {
   "cell_type": "markdown",
   "id": "277e207e",
   "metadata": {},
   "source": [
    "**2. Properti #2: Mengalikan atau membagi dengan suatu nilai konstanta untuk semua dataset**\n",
    "\n",
    "Mirip dengan properti pertama, apa yang akan terjadi ketika kita mengalikan atau membagi\n",
    "semua data dengan suatu nilai konstanta."
   ]
  },
  {
   "cell_type": "markdown",
   "id": "7d970c2e",
   "metadata": {},
   "source": [
    "Menghitung nilai *mean* dan *median* sebelum data dimodifikasi"
   ]
  },
  {
   "cell_type": "code",
   "execution_count": 232,
   "id": "8c03443b",
   "metadata": {},
   "outputs": [
    {
     "data": {
      "text/html": [
       "<style type=\"text/css\">\n",
       "#T_71c13 td {\n",
       "  border: 1px solid black;\n",
       "}\n",
       "#T_71c13  th {\n",
       "  border: 1px solid black;\n",
       "}\n",
       "#T_71c13 table {\n",
       "  border-collapse: collapse;\n",
       "}\n",
       "</style>\n",
       "<table id=\"T_71c13\">\n",
       "  <thead>\n",
       "    <tr>\n",
       "      <th class=\"blank level0\" >&nbsp;</th>\n",
       "      <th id=\"T_71c13_level0_col0\" class=\"col_heading level0 col0\" >Mean</th>\n",
       "      <th id=\"T_71c13_level0_col1\" class=\"col_heading level0 col1\" >Median</th>\n",
       "    </tr>\n",
       "  </thead>\n",
       "  <tbody>\n",
       "    <tr>\n",
       "      <th id=\"T_71c13_level0_row0\" class=\"row_heading level0 row0\" >Tipe1</th>\n",
       "      <td id=\"T_71c13_row0_col0\" class=\"data row0 col0\" >7.941071</td>\n",
       "      <td id=\"T_71c13_row0_col1\" class=\"data row0 col1\" >7.000000</td>\n",
       "    </tr>\n",
       "    <tr>\n",
       "      <th id=\"T_71c13_level0_row1\" class=\"row_heading level0 row1\" >Tipe2</th>\n",
       "      <td id=\"T_71c13_row1_col0\" class=\"data row1 col0\" >5.923214</td>\n",
       "      <td id=\"T_71c13_row1_col1\" class=\"data row1 col1\" >5.000000</td>\n",
       "    </tr>\n",
       "    <tr>\n",
       "      <th id=\"T_71c13_level0_row2\" class=\"row_heading level0 row2\" >Tipe3</th>\n",
       "      <td id=\"T_71c13_row2_col0\" class=\"data row2 col0\" >5.441071</td>\n",
       "      <td id=\"T_71c13_row2_col1\" class=\"data row2 col1\" >4.000000</td>\n",
       "    </tr>\n",
       "    <tr>\n",
       "      <th id=\"T_71c13_level0_row3\" class=\"row_heading level0 row3\" >Tipe4</th>\n",
       "      <td id=\"T_71c13_row3_col0\" class=\"data row3 col0\" >3.780357</td>\n",
       "      <td id=\"T_71c13_row3_col1\" class=\"data row3 col1\" >4.000000</td>\n",
       "    </tr>\n",
       "  </tbody>\n",
       "</table>\n"
      ],
      "text/plain": [
       "<pandas.io.formats.style.Styler at 0x14c99a5e490>"
      ]
     },
     "execution_count": 232,
     "metadata": {},
     "output_type": "execute_result"
    }
   ],
   "source": [
    "stats_df = pd.DataFrame({\n",
    "    'Mean': df.mean(),\n",
    "    'Median': df.median()\n",
    "})\n",
    "\n",
    "stats_df.style.set_table_styles([\n",
    "    {'selector': 'td, th', 'props': [('border', '1px solid black')]},\n",
    "    {'selector': 'table', 'props': [('border-collapse', 'collapse')]}\n",
    "])"
   ]
  },
  {
   "cell_type": "markdown",
   "id": "7c877dd5",
   "metadata": {},
   "source": [
    "Menghitung nilai *mean* dan *median* setelah data dimodifikasi(mengali atau membagi)\n",
    "konstanta = 2.7"
   ]
  },
  {
   "cell_type": "code",
   "execution_count": 233,
   "id": "e818d9b2",
   "metadata": {},
   "outputs": [
    {
     "data": {
      "text/html": [
       "<style type=\"text/css\">\n",
       "#T_02838 td {\n",
       "  border: 1px solid black;\n",
       "}\n",
       "#T_02838  th {\n",
       "  border: 1px solid black;\n",
       "}\n",
       "#T_02838 table {\n",
       "  border-collapse: collapse;\n",
       "}\n",
       "</style>\n",
       "<table id=\"T_02838\">\n",
       "  <thead>\n",
       "    <tr>\n",
       "      <th class=\"blank level0\" >&nbsp;</th>\n",
       "      <th id=\"T_02838_level0_col0\" class=\"col_heading level0 col0\" >Mean</th>\n",
       "      <th id=\"T_02838_level0_col1\" class=\"col_heading level0 col1\" >Median</th>\n",
       "    </tr>\n",
       "  </thead>\n",
       "  <tbody>\n",
       "    <tr>\n",
       "      <th id=\"T_02838_level0_row0\" class=\"row_heading level0 row0\" >Tipe1</th>\n",
       "      <td id=\"T_02838_row0_col0\" class=\"data row0 col0\" >7.989286</td>\n",
       "      <td id=\"T_02838_row0_col1\" class=\"data row0 col1\" >7.000000</td>\n",
       "    </tr>\n",
       "    <tr>\n",
       "      <th id=\"T_02838_level0_row1\" class=\"row_heading level0 row1\" >Tipe2</th>\n",
       "      <td id=\"T_02838_row1_col0\" class=\"data row1 col0\" >5.971429</td>\n",
       "      <td id=\"T_02838_row1_col1\" class=\"data row1 col1\" >5.000000</td>\n",
       "    </tr>\n",
       "    <tr>\n",
       "      <th id=\"T_02838_level0_row2\" class=\"row_heading level0 row2\" >Tipe3</th>\n",
       "      <td id=\"T_02838_row2_col0\" class=\"data row2 col0\" >5.489286</td>\n",
       "      <td id=\"T_02838_row2_col1\" class=\"data row2 col1\" >4.000000</td>\n",
       "    </tr>\n",
       "    <tr>\n",
       "      <th id=\"T_02838_level0_row3\" class=\"row_heading level0 row3\" >Tipe4</th>\n",
       "      <td id=\"T_02838_row3_col0\" class=\"data row3 col0\" >3.828571</td>\n",
       "      <td id=\"T_02838_row3_col1\" class=\"data row3 col1\" >4.000000</td>\n",
       "    </tr>\n",
       "  </tbody>\n",
       "</table>\n"
      ],
      "text/plain": [
       "<pandas.io.formats.style.Styler at 0x14c99a5e710>"
      ]
     },
     "execution_count": 233,
     "metadata": {},
     "output_type": "execute_result"
    }
   ],
   "source": [
    "\n",
    "df_mul = df\n",
    "df_mul.loc[27] += 2.7   # Mengubah nilai variabel ke-12 dari df_mul dengan dikalikan konstanta = 2.7\n",
    "\n",
    "stats_df_mul = pd.DataFrame({\n",
    "    'Mean': df_mul.mean(),\n",
    "    'Median': df_mul.median()\n",
    "})\n",
    "\n",
    "stats_df_mul.style.set_table_styles([\n",
    "    {'selector': 'td, th', 'props': [('border', '1px solid black')]},\n",
    "    {'selector': 'table', 'props': [('border-collapse', 'collapse')]}\n",
    "])"
   ]
  },
  {
   "cell_type": "markdown",
   "id": "c5e770f5",
   "metadata": {},
   "source": [
    "Mengalikan konstanta pada variabel ke-27 dapat memengaruhi nilai *mean* lumayan signifikan, bahkan nilai *median* bergeser menjadi 4."
   ]
  },
  {
   "cell_type": "markdown",
   "id": "7eb3d988",
   "metadata": {},
   "source": [
    "**3. Properti #3: Sensitif terhadap Outliers**\n",
    "\n",
    "Gunakan data yang sama, apa yang akan terjadi jika kita terdapat siswa baru super genius dimana\n",
    "untuk setiap tipe ujian selalu mendapatkan poin maksimal yakni 1000."
   ]
  },
  {
   "cell_type": "markdown",
   "id": "f742507c",
   "metadata": {},
   "source": [
    "Menghitung nilai *mean* dan *median* sebelum data dimodifikasi"
   ]
  },
  {
   "cell_type": "code",
   "execution_count": 234,
   "id": "baadc36a",
   "metadata": {},
   "outputs": [
    {
     "data": {
      "text/html": [
       "<style type=\"text/css\">\n",
       "#T_8a8af td {\n",
       "  border: 1px solid black;\n",
       "}\n",
       "#T_8a8af  th {\n",
       "  border: 1px solid black;\n",
       "}\n",
       "#T_8a8af table {\n",
       "  border-collapse: collapse;\n",
       "}\n",
       "</style>\n",
       "<table id=\"T_8a8af\">\n",
       "  <thead>\n",
       "    <tr>\n",
       "      <th class=\"blank level0\" >&nbsp;</th>\n",
       "      <th id=\"T_8a8af_level0_col0\" class=\"col_heading level0 col0\" >Mean</th>\n",
       "      <th id=\"T_8a8af_level0_col1\" class=\"col_heading level0 col1\" >Median</th>\n",
       "    </tr>\n",
       "  </thead>\n",
       "  <tbody>\n",
       "    <tr>\n",
       "      <th id=\"T_8a8af_level0_row0\" class=\"row_heading level0 row0\" >Tipe1</th>\n",
       "      <td id=\"T_8a8af_row0_col0\" class=\"data row0 col0\" >7.989286</td>\n",
       "      <td id=\"T_8a8af_row0_col1\" class=\"data row0 col1\" >7.000000</td>\n",
       "    </tr>\n",
       "    <tr>\n",
       "      <th id=\"T_8a8af_level0_row1\" class=\"row_heading level0 row1\" >Tipe2</th>\n",
       "      <td id=\"T_8a8af_row1_col0\" class=\"data row1 col0\" >5.971429</td>\n",
       "      <td id=\"T_8a8af_row1_col1\" class=\"data row1 col1\" >5.000000</td>\n",
       "    </tr>\n",
       "    <tr>\n",
       "      <th id=\"T_8a8af_level0_row2\" class=\"row_heading level0 row2\" >Tipe3</th>\n",
       "      <td id=\"T_8a8af_row2_col0\" class=\"data row2 col0\" >5.489286</td>\n",
       "      <td id=\"T_8a8af_row2_col1\" class=\"data row2 col1\" >4.000000</td>\n",
       "    </tr>\n",
       "    <tr>\n",
       "      <th id=\"T_8a8af_level0_row3\" class=\"row_heading level0 row3\" >Tipe4</th>\n",
       "      <td id=\"T_8a8af_row3_col0\" class=\"data row3 col0\" >3.828571</td>\n",
       "      <td id=\"T_8a8af_row3_col1\" class=\"data row3 col1\" >4.000000</td>\n",
       "    </tr>\n",
       "  </tbody>\n",
       "</table>\n"
      ],
      "text/plain": [
       "<pandas.io.formats.style.Styler at 0x14c99a5e990>"
      ]
     },
     "execution_count": 234,
     "metadata": {},
     "output_type": "execute_result"
    }
   ],
   "source": [
    "stats_df = pd.DataFrame({\n",
    "    'Mean': df.mean(),\n",
    "    'Median': df.median()\n",
    "})\n",
    "\n",
    "stats_df.style.set_table_styles([\n",
    "    {'selector': 'td, th', 'props': [('border', '1px solid black')]},\n",
    "    {'selector': 'table', 'props': [('border-collapse', 'collapse')]}\n",
    "])"
   ]
  },
  {
   "cell_type": "markdown",
   "id": "783df174",
   "metadata": {},
   "source": [
    "Menghitung nilai *mean* dan *median* setelah data dimodifikasi dengan menambah anomali/*outlier*."
   ]
  },
  {
   "cell_type": "code",
   "execution_count": 235,
   "id": "3cba7017",
   "metadata": {},
   "outputs": [
    {
     "data": {
      "text/html": [
       "<style type=\"text/css\">\n",
       "#T_c3f98 td {\n",
       "  border: 1px solid black;\n",
       "}\n",
       "#T_c3f98  th {\n",
       "  border: 1px solid black;\n",
       "}\n",
       "#T_c3f98 table {\n",
       "  border-collapse: collapse;\n",
       "}\n",
       "</style>\n",
       "<table id=\"T_c3f98\">\n",
       "  <thead>\n",
       "    <tr>\n",
       "      <th class=\"blank level0\" >&nbsp;</th>\n",
       "      <th id=\"T_c3f98_level0_col0\" class=\"col_heading level0 col0\" >Mean</th>\n",
       "      <th id=\"T_c3f98_level0_col1\" class=\"col_heading level0 col1\" >Median</th>\n",
       "    </tr>\n",
       "  </thead>\n",
       "  <tbody>\n",
       "    <tr>\n",
       "      <th id=\"T_c3f98_level0_row0\" class=\"row_heading level0 row0\" >Tipe1</th>\n",
       "      <td id=\"T_c3f98_row0_col0\" class=\"data row0 col0\" >23.217544</td>\n",
       "      <td id=\"T_c3f98_row0_col1\" class=\"data row0 col1\" >7.000000</td>\n",
       "    </tr>\n",
       "    <tr>\n",
       "      <th id=\"T_c3f98_level0_row1\" class=\"row_heading level0 row1\" >Tipe2</th>\n",
       "      <td id=\"T_c3f98_row1_col0\" class=\"data row1 col0\" >23.182456</td>\n",
       "      <td id=\"T_c3f98_row1_col1\" class=\"data row1 col1\" >5.000000</td>\n",
       "    </tr>\n",
       "    <tr>\n",
       "      <th id=\"T_c3f98_level0_row2\" class=\"row_heading level0 row2\" >Tipe3</th>\n",
       "      <td id=\"T_c3f98_row2_col0\" class=\"data row2 col0\" >22.919298</td>\n",
       "      <td id=\"T_c3f98_row2_col1\" class=\"data row2 col1\" >4.000000</td>\n",
       "    </tr>\n",
       "    <tr>\n",
       "      <th id=\"T_c3f98_level0_row3\" class=\"row_heading level0 row3\" >Tipe4</th>\n",
       "      <td id=\"T_c3f98_row3_col0\" class=\"data row3 col0\" >21.305263</td>\n",
       "      <td id=\"T_c3f98_row3_col1\" class=\"data row3 col1\" >4.000000</td>\n",
       "    </tr>\n",
       "  </tbody>\n",
       "</table>\n"
      ],
      "text/plain": [
       "<pandas.io.formats.style.Styler at 0x14c99a5e850>"
      ]
     },
     "execution_count": 235,
     "metadata": {},
     "output_type": "execute_result"
    }
   ],
   "source": [
    "df_outl = df\n",
    "df_outl.loc[len(df_outl)] = {'Tipe1':876, 'Tipe2':987, 'Tipe3':999, 'Tipe4':1000}\n",
    "stats_df_outl = pd.DataFrame({\n",
    "    'Mean': df_outl.mean(),\n",
    "    'Median': df_outl.median()\n",
    "})\n",
    "\n",
    "stats_df_outl.style.set_table_styles([\n",
    "    {'selector': 'td, th', 'props': [('border', '1px solid black')]},\n",
    "    {'selector': 'table', 'props': [('border-collapse', 'collapse')]}\n",
    "])"
   ]
  },
  {
   "cell_type": "markdown",
   "id": "7ab48a35",
   "metadata": {},
   "source": [
    "Penambahan anomali dalam data tersebut menimbulkan perubahan *mean* yang sangat signifikan berkisar 3 hingga 6 kali lipat dan dapat merubah median dari 3,5 ke 4."
   ]
  }
 ],
 "metadata": {
  "kernelspec": {
   "display_name": "Python 3",
   "language": "python",
   "name": "python3"
  },
  "language_info": {
   "codemirror_mode": {
    "name": "ipython",
    "version": 3
   },
   "file_extension": ".py",
   "mimetype": "text/x-python",
   "name": "python",
   "nbconvert_exporter": "python",
   "pygments_lexer": "ipython3",
   "version": "3.13.3"
  }
 },
 "nbformat": 4,
 "nbformat_minor": 5
}
